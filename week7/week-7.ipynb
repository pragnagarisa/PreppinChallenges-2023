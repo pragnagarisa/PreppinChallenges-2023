{
 "cells": [
  {
   "cell_type": "code",
   "execution_count": null,
   "id": "5e0c13bf",
   "metadata": {},
   "outputs": [],
   "source": [
    "#Week_7 - Flagging Fraudulent Suspicions\n"
   ]
  },
  {
   "cell_type": "code",
   "execution_count": null,
   "id": "40dd2333",
   "metadata": {},
   "outputs": [],
   "source": []
  },
  {
   "cell_type": "code",
   "execution_count": 1,
   "id": "e7422d0d",
   "metadata": {},
   "outputs": [],
   "source": [
    "import pandas as pd"
   ]
  },
  {
   "cell_type": "markdown",
   "id": "0a6724d4",
   "metadata": {},
   "source": [
    "Reading & Understanding all the datasets"
   ]
  },
  {
   "cell_type": "code",
   "execution_count": 2,
   "id": "aa16d076",
   "metadata": {},
   "outputs": [],
   "source": [
    "trans_path = pd.read_csv(\"Transaction Path.csv\")"
   ]
  },
  {
   "cell_type": "code",
   "execution_count": 3,
   "id": "f315d899",
   "metadata": {},
   "outputs": [
    {
     "data": {
      "text/html": [
       "<div>\n",
       "<style scoped>\n",
       "    .dataframe tbody tr th:only-of-type {\n",
       "        vertical-align: middle;\n",
       "    }\n",
       "\n",
       "    .dataframe tbody tr th {\n",
       "        vertical-align: top;\n",
       "    }\n",
       "\n",
       "    .dataframe thead th {\n",
       "        text-align: right;\n",
       "    }\n",
       "</style>\n",
       "<table border=\"1\" class=\"dataframe\">\n",
       "  <thead>\n",
       "    <tr style=\"text-align: right;\">\n",
       "      <th></th>\n",
       "      <th>Transaction ID</th>\n",
       "      <th>Account_To</th>\n",
       "      <th>Account_From</th>\n",
       "    </tr>\n",
       "  </thead>\n",
       "  <tbody>\n",
       "    <tr>\n",
       "      <th>0</th>\n",
       "      <td>1957155</td>\n",
       "      <td>27356852</td>\n",
       "      <td>76206810</td>\n",
       "    </tr>\n",
       "    <tr>\n",
       "      <th>1</th>\n",
       "      <td>2147025</td>\n",
       "      <td>44242297</td>\n",
       "      <td>24826358</td>\n",
       "    </tr>\n",
       "    <tr>\n",
       "      <th>2</th>\n",
       "      <td>3065073</td>\n",
       "      <td>10295384</td>\n",
       "      <td>52104303</td>\n",
       "    </tr>\n",
       "    <tr>\n",
       "      <th>3</th>\n",
       "      <td>6622100</td>\n",
       "      <td>45519330</td>\n",
       "      <td>69315008</td>\n",
       "    </tr>\n",
       "    <tr>\n",
       "      <th>4</th>\n",
       "      <td>14877473</td>\n",
       "      <td>28680375</td>\n",
       "      <td>44586370</td>\n",
       "    </tr>\n",
       "  </tbody>\n",
       "</table>\n",
       "</div>"
      ],
      "text/plain": [
       "   Transaction ID  Account_To  Account_From\n",
       "0         1957155    27356852      76206810\n",
       "1         2147025    44242297      24826358\n",
       "2         3065073    10295384      52104303\n",
       "3         6622100    45519330      69315008\n",
       "4        14877473    28680375      44586370"
      ]
     },
     "execution_count": 3,
     "metadata": {},
     "output_type": "execute_result"
    }
   ],
   "source": [
    "trans_path.head(5)"
   ]
  },
  {
   "cell_type": "code",
   "execution_count": 4,
   "id": "6b7402a6",
   "metadata": {},
   "outputs": [
    {
     "data": {
      "text/plain": [
       "(8781, 3)"
      ]
     },
     "execution_count": 4,
     "metadata": {},
     "output_type": "execute_result"
    }
   ],
   "source": [
    "trans_path.shape"
   ]
  },
  {
   "cell_type": "code",
   "execution_count": 5,
   "id": "69b2069b",
   "metadata": {},
   "outputs": [
    {
     "name": "stdout",
     "output_type": "stream",
     "text": [
      "<class 'pandas.core.frame.DataFrame'>\n",
      "RangeIndex: 8781 entries, 0 to 8780\n",
      "Data columns (total 3 columns):\n",
      " #   Column          Non-Null Count  Dtype\n",
      "---  ------          --------------  -----\n",
      " 0   Transaction ID  8781 non-null   int64\n",
      " 1   Account_To      8781 non-null   int64\n",
      " 2   Account_From    8781 non-null   int64\n",
      "dtypes: int64(3)\n",
      "memory usage: 205.9 KB\n"
     ]
    }
   ],
   "source": [
    "trans_path.info()"
   ]
  },
  {
   "cell_type": "code",
   "execution_count": 6,
   "id": "1dd48881",
   "metadata": {},
   "outputs": [],
   "source": [
    "trans_det = pd.read_csv(\"Transaction Detail.csv\")"
   ]
  },
  {
   "cell_type": "code",
   "execution_count": 7,
   "id": "2b6ef646",
   "metadata": {},
   "outputs": [
    {
     "data": {
      "text/html": [
       "<div>\n",
       "<style scoped>\n",
       "    .dataframe tbody tr th:only-of-type {\n",
       "        vertical-align: middle;\n",
       "    }\n",
       "\n",
       "    .dataframe tbody tr th {\n",
       "        vertical-align: top;\n",
       "    }\n",
       "\n",
       "    .dataframe thead th {\n",
       "        text-align: right;\n",
       "    }\n",
       "</style>\n",
       "<table border=\"1\" class=\"dataframe\">\n",
       "  <thead>\n",
       "    <tr style=\"text-align: right;\">\n",
       "      <th></th>\n",
       "      <th>Transaction ID</th>\n",
       "      <th>Transaction Date</th>\n",
       "      <th>Value</th>\n",
       "      <th>Cancelled?</th>\n",
       "    </tr>\n",
       "  </thead>\n",
       "  <tbody>\n",
       "    <tr>\n",
       "      <th>0</th>\n",
       "      <td>1957155</td>\n",
       "      <td>2023-02-01</td>\n",
       "      <td>128.78</td>\n",
       "      <td>N</td>\n",
       "    </tr>\n",
       "    <tr>\n",
       "      <th>1</th>\n",
       "      <td>28234510</td>\n",
       "      <td>2023-02-01</td>\n",
       "      <td>163.82</td>\n",
       "      <td>N</td>\n",
       "    </tr>\n",
       "    <tr>\n",
       "      <th>2</th>\n",
       "      <td>33688648</td>\n",
       "      <td>2023-02-01</td>\n",
       "      <td>54.71</td>\n",
       "      <td>N</td>\n",
       "    </tr>\n",
       "    <tr>\n",
       "      <th>3</th>\n",
       "      <td>41670299</td>\n",
       "      <td>2023-02-01</td>\n",
       "      <td>88.10</td>\n",
       "      <td>N</td>\n",
       "    </tr>\n",
       "    <tr>\n",
       "      <th>4</th>\n",
       "      <td>42825784</td>\n",
       "      <td>2023-02-01</td>\n",
       "      <td>217.22</td>\n",
       "      <td>Y</td>\n",
       "    </tr>\n",
       "  </tbody>\n",
       "</table>\n",
       "</div>"
      ],
      "text/plain": [
       "   Transaction ID Transaction Date   Value Cancelled?\n",
       "0         1957155       2023-02-01  128.78          N\n",
       "1        28234510       2023-02-01  163.82          N\n",
       "2        33688648       2023-02-01   54.71          N\n",
       "3        41670299       2023-02-01   88.10          N\n",
       "4        42825784       2023-02-01  217.22          Y"
      ]
     },
     "execution_count": 7,
     "metadata": {},
     "output_type": "execute_result"
    }
   ],
   "source": [
    "trans_det.head(5)"
   ]
  },
  {
   "cell_type": "code",
   "execution_count": 8,
   "id": "69750fe0",
   "metadata": {},
   "outputs": [
    {
     "data": {
      "text/plain": [
       "(8781, 4)"
      ]
     },
     "execution_count": 8,
     "metadata": {},
     "output_type": "execute_result"
    }
   ],
   "source": [
    "trans_det.shape"
   ]
  },
  {
   "cell_type": "code",
   "execution_count": 9,
   "id": "49ac8ab3",
   "metadata": {},
   "outputs": [
    {
     "name": "stdout",
     "output_type": "stream",
     "text": [
      "<class 'pandas.core.frame.DataFrame'>\n",
      "RangeIndex: 8781 entries, 0 to 8780\n",
      "Data columns (total 4 columns):\n",
      " #   Column            Non-Null Count  Dtype  \n",
      "---  ------            --------------  -----  \n",
      " 0   Transaction ID    8781 non-null   int64  \n",
      " 1   Transaction Date  8781 non-null   object \n",
      " 2   Value             8781 non-null   float64\n",
      " 3   Cancelled?        8781 non-null   object \n",
      "dtypes: float64(1), int64(1), object(2)\n",
      "memory usage: 274.5+ KB\n"
     ]
    }
   ],
   "source": [
    "trans_det.info()"
   ]
  },
  {
   "cell_type": "code",
   "execution_count": null,
   "id": "2f72c422",
   "metadata": {},
   "outputs": [],
   "source": [
    "Observations:\n",
    "    1. 'Transaction Date' is in object datatype"
   ]
  },
  {
   "cell_type": "code",
   "execution_count": 10,
   "id": "2b3231e1",
   "metadata": {},
   "outputs": [],
   "source": [
    "acc_info = pd.read_csv(\"Account Information.csv\")"
   ]
  },
  {
   "cell_type": "code",
   "execution_count": 11,
   "id": "78960a9b",
   "metadata": {},
   "outputs": [
    {
     "data": {
      "text/html": [
       "<div>\n",
       "<style scoped>\n",
       "    .dataframe tbody tr th:only-of-type {\n",
       "        vertical-align: middle;\n",
       "    }\n",
       "\n",
       "    .dataframe tbody tr th {\n",
       "        vertical-align: top;\n",
       "    }\n",
       "\n",
       "    .dataframe thead th {\n",
       "        text-align: right;\n",
       "    }\n",
       "</style>\n",
       "<table border=\"1\" class=\"dataframe\">\n",
       "  <thead>\n",
       "    <tr style=\"text-align: right;\">\n",
       "      <th></th>\n",
       "      <th>Account Number</th>\n",
       "      <th>Account Type</th>\n",
       "      <th>Account Holder ID</th>\n",
       "      <th>Balance Date</th>\n",
       "      <th>Balance</th>\n",
       "    </tr>\n",
       "  </thead>\n",
       "  <tbody>\n",
       "    <tr>\n",
       "      <th>0</th>\n",
       "      <td>10005367</td>\n",
       "      <td>Platinum</td>\n",
       "      <td>70390615</td>\n",
       "      <td>2023-01-31</td>\n",
       "      <td>728.25</td>\n",
       "    </tr>\n",
       "    <tr>\n",
       "      <th>1</th>\n",
       "      <td>10011977</td>\n",
       "      <td>Basic</td>\n",
       "      <td>20123998</td>\n",
       "      <td>2023-01-31</td>\n",
       "      <td>676.54</td>\n",
       "    </tr>\n",
       "    <tr>\n",
       "      <th>2</th>\n",
       "      <td>10024680</td>\n",
       "      <td>Platinum</td>\n",
       "      <td>54374080</td>\n",
       "      <td>2023-01-31</td>\n",
       "      <td>567.46</td>\n",
       "    </tr>\n",
       "    <tr>\n",
       "      <th>3</th>\n",
       "      <td>10031238</td>\n",
       "      <td>Basic</td>\n",
       "      <td>97027297</td>\n",
       "      <td>2023-01-31</td>\n",
       "      <td>576.52</td>\n",
       "    </tr>\n",
       "    <tr>\n",
       "      <th>4</th>\n",
       "      <td>10034341</td>\n",
       "      <td>Joint</td>\n",
       "      <td>89920386, 97325900</td>\n",
       "      <td>2023-01-31</td>\n",
       "      <td>390.39</td>\n",
       "    </tr>\n",
       "  </tbody>\n",
       "</table>\n",
       "</div>"
      ],
      "text/plain": [
       "   Account Number Account Type   Account Holder ID Balance Date  Balance\n",
       "0        10005367     Platinum            70390615   2023-01-31   728.25\n",
       "1        10011977        Basic            20123998   2023-01-31   676.54\n",
       "2        10024680     Platinum            54374080   2023-01-31   567.46\n",
       "3        10031238        Basic            97027297   2023-01-31   576.52\n",
       "4        10034341        Joint  89920386, 97325900   2023-01-31   390.39"
      ]
     },
     "execution_count": 11,
     "metadata": {},
     "output_type": "execute_result"
    }
   ],
   "source": [
    "acc_info.head(5)"
   ]
  },
  {
   "cell_type": "code",
   "execution_count": 12,
   "id": "0393a907",
   "metadata": {},
   "outputs": [
    {
     "data": {
      "text/plain": [
       "(3000, 5)"
      ]
     },
     "execution_count": 12,
     "metadata": {},
     "output_type": "execute_result"
    }
   ],
   "source": [
    "acc_info.shape"
   ]
  },
  {
   "cell_type": "code",
   "execution_count": 13,
   "id": "866997b8",
   "metadata": {},
   "outputs": [
    {
     "name": "stdout",
     "output_type": "stream",
     "text": [
      "<class 'pandas.core.frame.DataFrame'>\n",
      "RangeIndex: 3000 entries, 0 to 2999\n",
      "Data columns (total 5 columns):\n",
      " #   Column             Non-Null Count  Dtype  \n",
      "---  ------             --------------  -----  \n",
      " 0   Account Number     3000 non-null   int64  \n",
      " 1   Account Type       3000 non-null   object \n",
      " 2   Account Holder ID  3000 non-null   object \n",
      " 3   Balance Date       3000 non-null   object \n",
      " 4   Balance            3000 non-null   float64\n",
      "dtypes: float64(1), int64(1), object(3)\n",
      "memory usage: 117.3+ KB\n"
     ]
    }
   ],
   "source": [
    "acc_info.info()"
   ]
  },
  {
   "cell_type": "code",
   "execution_count": null,
   "id": "13fd5c08",
   "metadata": {},
   "outputs": [],
   "source": [
    "Observations:\n",
    "    1. 'Account Holder ID' is in object data type - should be 'int'\n",
    "    2. 'Balance Date' is in object data type - should be 'Date'"
   ]
  },
  {
   "cell_type": "code",
   "execution_count": 15,
   "id": "f549e657",
   "metadata": {},
   "outputs": [],
   "source": [
    "acc_hold = pd.read_csv(\"Account Holders.csv\")"
   ]
  },
  {
   "cell_type": "code",
   "execution_count": 16,
   "id": "97fef2d3",
   "metadata": {},
   "outputs": [
    {
     "data": {
      "text/html": [
       "<div>\n",
       "<style scoped>\n",
       "    .dataframe tbody tr th:only-of-type {\n",
       "        vertical-align: middle;\n",
       "    }\n",
       "\n",
       "    .dataframe tbody tr th {\n",
       "        vertical-align: top;\n",
       "    }\n",
       "\n",
       "    .dataframe thead th {\n",
       "        text-align: right;\n",
       "    }\n",
       "</style>\n",
       "<table border=\"1\" class=\"dataframe\">\n",
       "  <thead>\n",
       "    <tr style=\"text-align: right;\">\n",
       "      <th></th>\n",
       "      <th>Account Holder ID</th>\n",
       "      <th>Name</th>\n",
       "      <th>Date of Birth</th>\n",
       "      <th>Contact Number</th>\n",
       "      <th>First Line of Address</th>\n",
       "    </tr>\n",
       "  </thead>\n",
       "  <tbody>\n",
       "    <tr>\n",
       "      <th>0</th>\n",
       "      <td>70390615</td>\n",
       "      <td>Mahmoud Hehnke</td>\n",
       "      <td>28/08/1995</td>\n",
       "      <td>7479286250</td>\n",
       "      <td>18535 Loftsgordon Park</td>\n",
       "    </tr>\n",
       "    <tr>\n",
       "      <th>1</th>\n",
       "      <td>20123998</td>\n",
       "      <td>Maynord Surgeoner</td>\n",
       "      <td>21/08/1997</td>\n",
       "      <td>7716107305</td>\n",
       "      <td>6422 Buena Vista Plaza</td>\n",
       "    </tr>\n",
       "    <tr>\n",
       "      <th>2</th>\n",
       "      <td>54374080</td>\n",
       "      <td>Giraldo Kimbley</td>\n",
       "      <td>22/03/1995</td>\n",
       "      <td>7489940612</td>\n",
       "      <td>93005 Summer Ridge Avenue</td>\n",
       "    </tr>\n",
       "    <tr>\n",
       "      <th>3</th>\n",
       "      <td>97027297</td>\n",
       "      <td>Blake Dudson</td>\n",
       "      <td>30/06/1955</td>\n",
       "      <td>7253587445</td>\n",
       "      <td>2 Huxley Hill</td>\n",
       "    </tr>\n",
       "    <tr>\n",
       "      <th>4</th>\n",
       "      <td>89920386</td>\n",
       "      <td>Ajay Douce</td>\n",
       "      <td>19/12/1930</td>\n",
       "      <td>7395580534</td>\n",
       "      <td>90176 Miller Alley</td>\n",
       "    </tr>\n",
       "  </tbody>\n",
       "</table>\n",
       "</div>"
      ],
      "text/plain": [
       "   Account Holder ID               Name Date of Birth  Contact Number  \\\n",
       "0           70390615     Mahmoud Hehnke    28/08/1995      7479286250   \n",
       "1           20123998  Maynord Surgeoner    21/08/1997      7716107305   \n",
       "2           54374080    Giraldo Kimbley    22/03/1995      7489940612   \n",
       "3           97027297       Blake Dudson    30/06/1955      7253587445   \n",
       "4           89920386         Ajay Douce    19/12/1930      7395580534   \n",
       "\n",
       "       First Line of Address  \n",
       "0     18535 Loftsgordon Park  \n",
       "1     6422 Buena Vista Plaza  \n",
       "2  93005 Summer Ridge Avenue  \n",
       "3              2 Huxley Hill  \n",
       "4         90176 Miller Alley  "
      ]
     },
     "execution_count": 16,
     "metadata": {},
     "output_type": "execute_result"
    }
   ],
   "source": [
    "acc_hold.head(5)"
   ]
  },
  {
   "cell_type": "code",
   "execution_count": 17,
   "id": "bed23ca0",
   "metadata": {},
   "outputs": [
    {
     "data": {
      "text/plain": [
       "(3072, 5)"
      ]
     },
     "execution_count": 17,
     "metadata": {},
     "output_type": "execute_result"
    }
   ],
   "source": [
    "acc_hold.shape"
   ]
  },
  {
   "cell_type": "code",
   "execution_count": 18,
   "id": "f0bdba99",
   "metadata": {},
   "outputs": [
    {
     "name": "stdout",
     "output_type": "stream",
     "text": [
      "<class 'pandas.core.frame.DataFrame'>\n",
      "RangeIndex: 3072 entries, 0 to 3071\n",
      "Data columns (total 5 columns):\n",
      " #   Column                 Non-Null Count  Dtype \n",
      "---  ------                 --------------  ----- \n",
      " 0   Account Holder ID      3072 non-null   int64 \n",
      " 1   Name                   3072 non-null   object\n",
      " 2   Date of Birth          3072 non-null   object\n",
      " 3   Contact Number         3072 non-null   int64 \n",
      " 4   First Line of Address  3072 non-null   object\n",
      "dtypes: int64(2), object(3)\n",
      "memory usage: 120.1+ KB\n"
     ]
    }
   ],
   "source": [
    "acc_hold.info()"
   ]
  },
  {
   "cell_type": "code",
   "execution_count": null,
   "id": "64e04ce6",
   "metadata": {},
   "outputs": [],
   "source": [
    "For the Transaction Path table:\n",
    "  Make sure field naming convention matches the other tables\n",
    "  i.e. instead of Account_From it should be Account From"
   ]
  },
  {
   "cell_type": "code",
   "execution_count": 19,
   "id": "0fbf46a2",
   "metadata": {},
   "outputs": [
    {
     "data": {
      "text/html": [
       "<div>\n",
       "<style scoped>\n",
       "    .dataframe tbody tr th:only-of-type {\n",
       "        vertical-align: middle;\n",
       "    }\n",
       "\n",
       "    .dataframe tbody tr th {\n",
       "        vertical-align: top;\n",
       "    }\n",
       "\n",
       "    .dataframe thead th {\n",
       "        text-align: right;\n",
       "    }\n",
       "</style>\n",
       "<table border=\"1\" class=\"dataframe\">\n",
       "  <thead>\n",
       "    <tr style=\"text-align: right;\">\n",
       "      <th></th>\n",
       "      <th>Transaction ID</th>\n",
       "      <th>Account_To</th>\n",
       "      <th>Account_From</th>\n",
       "    </tr>\n",
       "  </thead>\n",
       "  <tbody>\n",
       "    <tr>\n",
       "      <th>0</th>\n",
       "      <td>1957155</td>\n",
       "      <td>27356852</td>\n",
       "      <td>76206810</td>\n",
       "    </tr>\n",
       "    <tr>\n",
       "      <th>1</th>\n",
       "      <td>2147025</td>\n",
       "      <td>44242297</td>\n",
       "      <td>24826358</td>\n",
       "    </tr>\n",
       "    <tr>\n",
       "      <th>2</th>\n",
       "      <td>3065073</td>\n",
       "      <td>10295384</td>\n",
       "      <td>52104303</td>\n",
       "    </tr>\n",
       "    <tr>\n",
       "      <th>3</th>\n",
       "      <td>6622100</td>\n",
       "      <td>45519330</td>\n",
       "      <td>69315008</td>\n",
       "    </tr>\n",
       "    <tr>\n",
       "      <th>4</th>\n",
       "      <td>14877473</td>\n",
       "      <td>28680375</td>\n",
       "      <td>44586370</td>\n",
       "    </tr>\n",
       "  </tbody>\n",
       "</table>\n",
       "</div>"
      ],
      "text/plain": [
       "   Transaction ID  Account_To  Account_From\n",
       "0         1957155    27356852      76206810\n",
       "1         2147025    44242297      24826358\n",
       "2         3065073    10295384      52104303\n",
       "3         6622100    45519330      69315008\n",
       "4        14877473    28680375      44586370"
      ]
     },
     "execution_count": 19,
     "metadata": {},
     "output_type": "execute_result"
    }
   ],
   "source": [
    "trans_path.head(5)"
   ]
  },
  {
   "cell_type": "code",
   "execution_count": 20,
   "id": "162ba523",
   "metadata": {},
   "outputs": [],
   "source": [
    "trans_path.rename(columns = {'Account_From' : 'Account From'} ,inplace = True)"
   ]
  },
  {
   "cell_type": "code",
   "execution_count": 21,
   "id": "c7688d9f",
   "metadata": {},
   "outputs": [
    {
     "data": {
      "text/html": [
       "<div>\n",
       "<style scoped>\n",
       "    .dataframe tbody tr th:only-of-type {\n",
       "        vertical-align: middle;\n",
       "    }\n",
       "\n",
       "    .dataframe tbody tr th {\n",
       "        vertical-align: top;\n",
       "    }\n",
       "\n",
       "    .dataframe thead th {\n",
       "        text-align: right;\n",
       "    }\n",
       "</style>\n",
       "<table border=\"1\" class=\"dataframe\">\n",
       "  <thead>\n",
       "    <tr style=\"text-align: right;\">\n",
       "      <th></th>\n",
       "      <th>Transaction ID</th>\n",
       "      <th>Account_To</th>\n",
       "      <th>Account From</th>\n",
       "    </tr>\n",
       "  </thead>\n",
       "  <tbody>\n",
       "    <tr>\n",
       "      <th>0</th>\n",
       "      <td>1957155</td>\n",
       "      <td>27356852</td>\n",
       "      <td>76206810</td>\n",
       "    </tr>\n",
       "    <tr>\n",
       "      <th>1</th>\n",
       "      <td>2147025</td>\n",
       "      <td>44242297</td>\n",
       "      <td>24826358</td>\n",
       "    </tr>\n",
       "    <tr>\n",
       "      <th>2</th>\n",
       "      <td>3065073</td>\n",
       "      <td>10295384</td>\n",
       "      <td>52104303</td>\n",
       "    </tr>\n",
       "    <tr>\n",
       "      <th>3</th>\n",
       "      <td>6622100</td>\n",
       "      <td>45519330</td>\n",
       "      <td>69315008</td>\n",
       "    </tr>\n",
       "    <tr>\n",
       "      <th>4</th>\n",
       "      <td>14877473</td>\n",
       "      <td>28680375</td>\n",
       "      <td>44586370</td>\n",
       "    </tr>\n",
       "  </tbody>\n",
       "</table>\n",
       "</div>"
      ],
      "text/plain": [
       "   Transaction ID  Account_To  Account From\n",
       "0         1957155    27356852      76206810\n",
       "1         2147025    44242297      24826358\n",
       "2         3065073    10295384      52104303\n",
       "3         6622100    45519330      69315008\n",
       "4        14877473    28680375      44586370"
      ]
     },
     "execution_count": 21,
     "metadata": {},
     "output_type": "execute_result"
    }
   ],
   "source": [
    "trans_path.head(5)"
   ]
  },
  {
   "cell_type": "markdown",
   "id": "1955aeb1",
   "metadata": {},
   "source": [
    "For the Account Information table:\n",
    " - Make sure there are no null values in the Account Holder ID\n",
    " - Ensure there is one row per Account Holder ID\n",
    "      Joint accounts will have 2 Account Holders, we want a row for each of them"
   ]
  },
  {
   "cell_type": "code",
   "execution_count": 22,
   "id": "f31a0e48",
   "metadata": {},
   "outputs": [
    {
     "data": {
      "text/html": [
       "<div>\n",
       "<style scoped>\n",
       "    .dataframe tbody tr th:only-of-type {\n",
       "        vertical-align: middle;\n",
       "    }\n",
       "\n",
       "    .dataframe tbody tr th {\n",
       "        vertical-align: top;\n",
       "    }\n",
       "\n",
       "    .dataframe thead th {\n",
       "        text-align: right;\n",
       "    }\n",
       "</style>\n",
       "<table border=\"1\" class=\"dataframe\">\n",
       "  <thead>\n",
       "    <tr style=\"text-align: right;\">\n",
       "      <th></th>\n",
       "      <th>Account Number</th>\n",
       "      <th>Account Type</th>\n",
       "      <th>Account Holder ID</th>\n",
       "      <th>Balance Date</th>\n",
       "      <th>Balance</th>\n",
       "    </tr>\n",
       "  </thead>\n",
       "  <tbody>\n",
       "    <tr>\n",
       "      <th>0</th>\n",
       "      <td>10005367</td>\n",
       "      <td>Platinum</td>\n",
       "      <td>70390615</td>\n",
       "      <td>2023-01-31</td>\n",
       "      <td>728.25</td>\n",
       "    </tr>\n",
       "    <tr>\n",
       "      <th>1</th>\n",
       "      <td>10011977</td>\n",
       "      <td>Basic</td>\n",
       "      <td>20123998</td>\n",
       "      <td>2023-01-31</td>\n",
       "      <td>676.54</td>\n",
       "    </tr>\n",
       "    <tr>\n",
       "      <th>2</th>\n",
       "      <td>10024680</td>\n",
       "      <td>Platinum</td>\n",
       "      <td>54374080</td>\n",
       "      <td>2023-01-31</td>\n",
       "      <td>567.46</td>\n",
       "    </tr>\n",
       "    <tr>\n",
       "      <th>3</th>\n",
       "      <td>10031238</td>\n",
       "      <td>Basic</td>\n",
       "      <td>97027297</td>\n",
       "      <td>2023-01-31</td>\n",
       "      <td>576.52</td>\n",
       "    </tr>\n",
       "    <tr>\n",
       "      <th>4</th>\n",
       "      <td>10034341</td>\n",
       "      <td>Joint</td>\n",
       "      <td>89920386, 97325900</td>\n",
       "      <td>2023-01-31</td>\n",
       "      <td>390.39</td>\n",
       "    </tr>\n",
       "  </tbody>\n",
       "</table>\n",
       "</div>"
      ],
      "text/plain": [
       "   Account Number Account Type   Account Holder ID Balance Date  Balance\n",
       "0        10005367     Platinum            70390615   2023-01-31   728.25\n",
       "1        10011977        Basic            20123998   2023-01-31   676.54\n",
       "2        10024680     Platinum            54374080   2023-01-31   567.46\n",
       "3        10031238        Basic            97027297   2023-01-31   576.52\n",
       "4        10034341        Joint  89920386, 97325900   2023-01-31   390.39"
      ]
     },
     "execution_count": 22,
     "metadata": {},
     "output_type": "execute_result"
    }
   ],
   "source": [
    "acc_info.head(5)"
   ]
  },
  {
   "cell_type": "code",
   "execution_count": 23,
   "id": "edd85b5a",
   "metadata": {},
   "outputs": [
    {
     "data": {
      "text/plain": [
       "Account Number       0\n",
       "Account Type         0\n",
       "Account Holder ID    0\n",
       "Balance Date         0\n",
       "Balance              0\n",
       "dtype: int64"
      ]
     },
     "execution_count": 23,
     "metadata": {},
     "output_type": "execute_result"
    }
   ],
   "source": [
    "acc_info.isnull().sum()"
   ]
  },
  {
   "cell_type": "code",
   "execution_count": 24,
   "id": "cce0b48c",
   "metadata": {},
   "outputs": [],
   "source": [
    "acc_info['Account Holder ID'] = acc_info['Account Holder ID'].str.split(',')"
   ]
  },
  {
   "cell_type": "code",
   "execution_count": 25,
   "id": "adb34ce8",
   "metadata": {},
   "outputs": [],
   "source": [
    "acc_info = acc_info.explode('Account Holder ID')"
   ]
  },
  {
   "cell_type": "code",
   "execution_count": 26,
   "id": "094c3280",
   "metadata": {},
   "outputs": [
    {
     "data": {
      "text/html": [
       "<div>\n",
       "<style scoped>\n",
       "    .dataframe tbody tr th:only-of-type {\n",
       "        vertical-align: middle;\n",
       "    }\n",
       "\n",
       "    .dataframe tbody tr th {\n",
       "        vertical-align: top;\n",
       "    }\n",
       "\n",
       "    .dataframe thead th {\n",
       "        text-align: right;\n",
       "    }\n",
       "</style>\n",
       "<table border=\"1\" class=\"dataframe\">\n",
       "  <thead>\n",
       "    <tr style=\"text-align: right;\">\n",
       "      <th></th>\n",
       "      <th>Account Number</th>\n",
       "      <th>Account Type</th>\n",
       "      <th>Account Holder ID</th>\n",
       "      <th>Balance Date</th>\n",
       "      <th>Balance</th>\n",
       "    </tr>\n",
       "  </thead>\n",
       "  <tbody>\n",
       "    <tr>\n",
       "      <th>0</th>\n",
       "      <td>10005367</td>\n",
       "      <td>Platinum</td>\n",
       "      <td>70390615</td>\n",
       "      <td>2023-01-31</td>\n",
       "      <td>728.25</td>\n",
       "    </tr>\n",
       "    <tr>\n",
       "      <th>1</th>\n",
       "      <td>10011977</td>\n",
       "      <td>Basic</td>\n",
       "      <td>20123998</td>\n",
       "      <td>2023-01-31</td>\n",
       "      <td>676.54</td>\n",
       "    </tr>\n",
       "    <tr>\n",
       "      <th>2</th>\n",
       "      <td>10024680</td>\n",
       "      <td>Platinum</td>\n",
       "      <td>54374080</td>\n",
       "      <td>2023-01-31</td>\n",
       "      <td>567.46</td>\n",
       "    </tr>\n",
       "    <tr>\n",
       "      <th>3</th>\n",
       "      <td>10031238</td>\n",
       "      <td>Basic</td>\n",
       "      <td>97027297</td>\n",
       "      <td>2023-01-31</td>\n",
       "      <td>576.52</td>\n",
       "    </tr>\n",
       "    <tr>\n",
       "      <th>4</th>\n",
       "      <td>10034341</td>\n",
       "      <td>Joint</td>\n",
       "      <td>89920386</td>\n",
       "      <td>2023-01-31</td>\n",
       "      <td>390.39</td>\n",
       "    </tr>\n",
       "    <tr>\n",
       "      <th>...</th>\n",
       "      <td>...</td>\n",
       "      <td>...</td>\n",
       "      <td>...</td>\n",
       "      <td>...</td>\n",
       "      <td>...</td>\n",
       "    </tr>\n",
       "    <tr>\n",
       "      <th>2996</th>\n",
       "      <td>99760030</td>\n",
       "      <td>Gold</td>\n",
       "      <td>66659633</td>\n",
       "      <td>2023-01-31</td>\n",
       "      <td>988.00</td>\n",
       "    </tr>\n",
       "    <tr>\n",
       "      <th>2997</th>\n",
       "      <td>99791709</td>\n",
       "      <td>Gold</td>\n",
       "      <td>94872412</td>\n",
       "      <td>2023-01-31</td>\n",
       "      <td>15.05</td>\n",
       "    </tr>\n",
       "    <tr>\n",
       "      <th>2998</th>\n",
       "      <td>99877007</td>\n",
       "      <td>Basic</td>\n",
       "      <td>90069774</td>\n",
       "      <td>2023-01-31</td>\n",
       "      <td>582.00</td>\n",
       "    </tr>\n",
       "    <tr>\n",
       "      <th>2999</th>\n",
       "      <td>99937043</td>\n",
       "      <td>Joint</td>\n",
       "      <td>45810412</td>\n",
       "      <td>2023-01-31</td>\n",
       "      <td>918.42</td>\n",
       "    </tr>\n",
       "    <tr>\n",
       "      <th>2999</th>\n",
       "      <td>99937043</td>\n",
       "      <td>Joint</td>\n",
       "      <td>83107272</td>\n",
       "      <td>2023-01-31</td>\n",
       "      <td>918.42</td>\n",
       "    </tr>\n",
       "  </tbody>\n",
       "</table>\n",
       "<p>3072 rows × 5 columns</p>\n",
       "</div>"
      ],
      "text/plain": [
       "      Account Number Account Type Account Holder ID Balance Date  Balance\n",
       "0           10005367     Platinum          70390615   2023-01-31   728.25\n",
       "1           10011977        Basic          20123998   2023-01-31   676.54\n",
       "2           10024680     Platinum          54374080   2023-01-31   567.46\n",
       "3           10031238        Basic          97027297   2023-01-31   576.52\n",
       "4           10034341        Joint          89920386   2023-01-31   390.39\n",
       "...              ...          ...               ...          ...      ...\n",
       "2996        99760030         Gold          66659633   2023-01-31   988.00\n",
       "2997        99791709         Gold          94872412   2023-01-31    15.05\n",
       "2998        99877007        Basic          90069774   2023-01-31   582.00\n",
       "2999        99937043        Joint          45810412   2023-01-31   918.42\n",
       "2999        99937043        Joint          83107272   2023-01-31   918.42\n",
       "\n",
       "[3072 rows x 5 columns]"
      ]
     },
     "execution_count": 26,
     "metadata": {},
     "output_type": "execute_result"
    }
   ],
   "source": [
    "acc_info"
   ]
  },
  {
   "cell_type": "code",
   "execution_count": 27,
   "id": "4ab80007",
   "metadata": {},
   "outputs": [
    {
     "name": "stdout",
     "output_type": "stream",
     "text": [
      "<class 'pandas.core.frame.DataFrame'>\n",
      "Index: 3072 entries, 0 to 2999\n",
      "Data columns (total 5 columns):\n",
      " #   Column             Non-Null Count  Dtype  \n",
      "---  ------             --------------  -----  \n",
      " 0   Account Number     3072 non-null   int64  \n",
      " 1   Account Type       3072 non-null   object \n",
      " 2   Account Holder ID  3072 non-null   object \n",
      " 3   Balance Date       3072 non-null   object \n",
      " 4   Balance            3072 non-null   float64\n",
      "dtypes: float64(1), int64(1), object(3)\n",
      "memory usage: 144.0+ KB\n"
     ]
    }
   ],
   "source": [
    "acc_info.info()"
   ]
  },
  {
   "cell_type": "code",
   "execution_count": 28,
   "id": "f21697f4",
   "metadata": {},
   "outputs": [],
   "source": [
    "acc_info['Account Holder ID'] = acc_info['Account Holder ID'].astype(int)"
   ]
  },
  {
   "cell_type": "markdown",
   "id": "83803f52",
   "metadata": {},
   "source": [
    "For the Account Holders table:\n",
    "  Make sure the phone numbers start with 07"
   ]
  },
  {
   "cell_type": "code",
   "execution_count": 29,
   "id": "545d6481",
   "metadata": {},
   "outputs": [
    {
     "data": {
      "text/html": [
       "<div>\n",
       "<style scoped>\n",
       "    .dataframe tbody tr th:only-of-type {\n",
       "        vertical-align: middle;\n",
       "    }\n",
       "\n",
       "    .dataframe tbody tr th {\n",
       "        vertical-align: top;\n",
       "    }\n",
       "\n",
       "    .dataframe thead th {\n",
       "        text-align: right;\n",
       "    }\n",
       "</style>\n",
       "<table border=\"1\" class=\"dataframe\">\n",
       "  <thead>\n",
       "    <tr style=\"text-align: right;\">\n",
       "      <th></th>\n",
       "      <th>Account Holder ID</th>\n",
       "      <th>Name</th>\n",
       "      <th>Date of Birth</th>\n",
       "      <th>Contact Number</th>\n",
       "      <th>First Line of Address</th>\n",
       "    </tr>\n",
       "  </thead>\n",
       "  <tbody>\n",
       "    <tr>\n",
       "      <th>0</th>\n",
       "      <td>70390615</td>\n",
       "      <td>Mahmoud Hehnke</td>\n",
       "      <td>28/08/1995</td>\n",
       "      <td>7479286250</td>\n",
       "      <td>18535 Loftsgordon Park</td>\n",
       "    </tr>\n",
       "    <tr>\n",
       "      <th>1</th>\n",
       "      <td>20123998</td>\n",
       "      <td>Maynord Surgeoner</td>\n",
       "      <td>21/08/1997</td>\n",
       "      <td>7716107305</td>\n",
       "      <td>6422 Buena Vista Plaza</td>\n",
       "    </tr>\n",
       "    <tr>\n",
       "      <th>2</th>\n",
       "      <td>54374080</td>\n",
       "      <td>Giraldo Kimbley</td>\n",
       "      <td>22/03/1995</td>\n",
       "      <td>7489940612</td>\n",
       "      <td>93005 Summer Ridge Avenue</td>\n",
       "    </tr>\n",
       "    <tr>\n",
       "      <th>3</th>\n",
       "      <td>97027297</td>\n",
       "      <td>Blake Dudson</td>\n",
       "      <td>30/06/1955</td>\n",
       "      <td>7253587445</td>\n",
       "      <td>2 Huxley Hill</td>\n",
       "    </tr>\n",
       "    <tr>\n",
       "      <th>4</th>\n",
       "      <td>89920386</td>\n",
       "      <td>Ajay Douce</td>\n",
       "      <td>19/12/1930</td>\n",
       "      <td>7395580534</td>\n",
       "      <td>90176 Miller Alley</td>\n",
       "    </tr>\n",
       "  </tbody>\n",
       "</table>\n",
       "</div>"
      ],
      "text/plain": [
       "   Account Holder ID               Name Date of Birth  Contact Number  \\\n",
       "0           70390615     Mahmoud Hehnke    28/08/1995      7479286250   \n",
       "1           20123998  Maynord Surgeoner    21/08/1997      7716107305   \n",
       "2           54374080    Giraldo Kimbley    22/03/1995      7489940612   \n",
       "3           97027297       Blake Dudson    30/06/1955      7253587445   \n",
       "4           89920386         Ajay Douce    19/12/1930      7395580534   \n",
       "\n",
       "       First Line of Address  \n",
       "0     18535 Loftsgordon Park  \n",
       "1     6422 Buena Vista Plaza  \n",
       "2  93005 Summer Ridge Avenue  \n",
       "3              2 Huxley Hill  \n",
       "4         90176 Miller Alley  "
      ]
     },
     "execution_count": 29,
     "metadata": {},
     "output_type": "execute_result"
    }
   ],
   "source": [
    "acc_hold.head(5)"
   ]
  },
  {
   "cell_type": "code",
   "execution_count": 30,
   "id": "fdd9bdf6",
   "metadata": {},
   "outputs": [],
   "source": [
    "acc_hold['Contact Number'] = acc_hold['Contact Number'].replace('^7','07')"
   ]
  },
  {
   "cell_type": "code",
   "execution_count": 31,
   "id": "4e1e1067",
   "metadata": {},
   "outputs": [
    {
     "data": {
      "text/html": [
       "<div>\n",
       "<style scoped>\n",
       "    .dataframe tbody tr th:only-of-type {\n",
       "        vertical-align: middle;\n",
       "    }\n",
       "\n",
       "    .dataframe tbody tr th {\n",
       "        vertical-align: top;\n",
       "    }\n",
       "\n",
       "    .dataframe thead th {\n",
       "        text-align: right;\n",
       "    }\n",
       "</style>\n",
       "<table border=\"1\" class=\"dataframe\">\n",
       "  <thead>\n",
       "    <tr style=\"text-align: right;\">\n",
       "      <th></th>\n",
       "      <th>Account Holder ID</th>\n",
       "      <th>Name</th>\n",
       "      <th>Date of Birth</th>\n",
       "      <th>Contact Number</th>\n",
       "      <th>First Line of Address</th>\n",
       "    </tr>\n",
       "  </thead>\n",
       "  <tbody>\n",
       "    <tr>\n",
       "      <th>0</th>\n",
       "      <td>70390615</td>\n",
       "      <td>Mahmoud Hehnke</td>\n",
       "      <td>28/08/1995</td>\n",
       "      <td>7479286250</td>\n",
       "      <td>18535 Loftsgordon Park</td>\n",
       "    </tr>\n",
       "    <tr>\n",
       "      <th>1</th>\n",
       "      <td>20123998</td>\n",
       "      <td>Maynord Surgeoner</td>\n",
       "      <td>21/08/1997</td>\n",
       "      <td>7716107305</td>\n",
       "      <td>6422 Buena Vista Plaza</td>\n",
       "    </tr>\n",
       "    <tr>\n",
       "      <th>2</th>\n",
       "      <td>54374080</td>\n",
       "      <td>Giraldo Kimbley</td>\n",
       "      <td>22/03/1995</td>\n",
       "      <td>7489940612</td>\n",
       "      <td>93005 Summer Ridge Avenue</td>\n",
       "    </tr>\n",
       "    <tr>\n",
       "      <th>3</th>\n",
       "      <td>97027297</td>\n",
       "      <td>Blake Dudson</td>\n",
       "      <td>30/06/1955</td>\n",
       "      <td>7253587445</td>\n",
       "      <td>2 Huxley Hill</td>\n",
       "    </tr>\n",
       "    <tr>\n",
       "      <th>4</th>\n",
       "      <td>89920386</td>\n",
       "      <td>Ajay Douce</td>\n",
       "      <td>19/12/1930</td>\n",
       "      <td>7395580534</td>\n",
       "      <td>90176 Miller Alley</td>\n",
       "    </tr>\n",
       "    <tr>\n",
       "      <th>...</th>\n",
       "      <td>...</td>\n",
       "      <td>...</td>\n",
       "      <td>...</td>\n",
       "      <td>...</td>\n",
       "      <td>...</td>\n",
       "    </tr>\n",
       "    <tr>\n",
       "      <th>3067</th>\n",
       "      <td>66659633</td>\n",
       "      <td>Mata Brownett</td>\n",
       "      <td>16/07/1931</td>\n",
       "      <td>7314541365</td>\n",
       "      <td>5 Kenwood Park</td>\n",
       "    </tr>\n",
       "    <tr>\n",
       "      <th>3068</th>\n",
       "      <td>94872412</td>\n",
       "      <td>Tabby Matteotti</td>\n",
       "      <td>13/10/1962</td>\n",
       "      <td>7586210387</td>\n",
       "      <td>7517 Aberg Plaza</td>\n",
       "    </tr>\n",
       "    <tr>\n",
       "      <th>3069</th>\n",
       "      <td>90069774</td>\n",
       "      <td>Cyndia Fosse</td>\n",
       "      <td>09/03/1961</td>\n",
       "      <td>7494132554</td>\n",
       "      <td>42 Trailsway Point</td>\n",
       "    </tr>\n",
       "    <tr>\n",
       "      <th>3070</th>\n",
       "      <td>45810412</td>\n",
       "      <td>Arch Segrave</td>\n",
       "      <td>05/06/2000</td>\n",
       "      <td>7289510957</td>\n",
       "      <td>14 3rd Center</td>\n",
       "    </tr>\n",
       "    <tr>\n",
       "      <th>3071</th>\n",
       "      <td>83107272</td>\n",
       "      <td>Niko Rudderham</td>\n",
       "      <td>11/12/2003</td>\n",
       "      <td>7312463759</td>\n",
       "      <td>14 3rd Center</td>\n",
       "    </tr>\n",
       "  </tbody>\n",
       "</table>\n",
       "<p>3072 rows × 5 columns</p>\n",
       "</div>"
      ],
      "text/plain": [
       "      Account Holder ID               Name Date of Birth  Contact Number  \\\n",
       "0              70390615     Mahmoud Hehnke    28/08/1995      7479286250   \n",
       "1              20123998  Maynord Surgeoner    21/08/1997      7716107305   \n",
       "2              54374080    Giraldo Kimbley    22/03/1995      7489940612   \n",
       "3              97027297       Blake Dudson    30/06/1955      7253587445   \n",
       "4              89920386         Ajay Douce    19/12/1930      7395580534   \n",
       "...                 ...                ...           ...             ...   \n",
       "3067           66659633      Mata Brownett    16/07/1931      7314541365   \n",
       "3068           94872412    Tabby Matteotti    13/10/1962      7586210387   \n",
       "3069           90069774       Cyndia Fosse    09/03/1961      7494132554   \n",
       "3070           45810412       Arch Segrave    05/06/2000      7289510957   \n",
       "3071           83107272     Niko Rudderham    11/12/2003      7312463759   \n",
       "\n",
       "          First Line of Address  \n",
       "0        18535 Loftsgordon Park  \n",
       "1        6422 Buena Vista Plaza  \n",
       "2     93005 Summer Ridge Avenue  \n",
       "3                 2 Huxley Hill  \n",
       "4            90176 Miller Alley  \n",
       "...                         ...  \n",
       "3067             5 Kenwood Park  \n",
       "3068           7517 Aberg Plaza  \n",
       "3069         42 Trailsway Point  \n",
       "3070              14 3rd Center  \n",
       "3071              14 3rd Center  \n",
       "\n",
       "[3072 rows x 5 columns]"
      ]
     },
     "execution_count": 31,
     "metadata": {},
     "output_type": "execute_result"
    }
   ],
   "source": [
    "acc_hold"
   ]
  },
  {
   "cell_type": "markdown",
   "id": "21c481b7",
   "metadata": {},
   "source": [
    "Bring the tables together"
   ]
  },
  {
   "cell_type": "code",
   "execution_count": 32,
   "id": "efdce3b2",
   "metadata": {},
   "outputs": [
    {
     "data": {
      "text/plain": [
       "Index(['Transaction ID', 'Account_To', 'Account From'], dtype='object')"
      ]
     },
     "execution_count": 32,
     "metadata": {},
     "output_type": "execute_result"
    }
   ],
   "source": [
    "trans_path.columns"
   ]
  },
  {
   "cell_type": "code",
   "execution_count": 33,
   "id": "40bf1e25",
   "metadata": {},
   "outputs": [
    {
     "data": {
      "text/plain": [
       "Index(['Transaction ID', 'Transaction Date', 'Value', 'Cancelled?'], dtype='object')"
      ]
     },
     "execution_count": 33,
     "metadata": {},
     "output_type": "execute_result"
    }
   ],
   "source": [
    "trans_det.columns"
   ]
  },
  {
   "cell_type": "code",
   "execution_count": 34,
   "id": "cc06266d",
   "metadata": {},
   "outputs": [
    {
     "name": "stdout",
     "output_type": "stream",
     "text": [
      "(8781, 3)\n",
      "(8781, 4)\n"
     ]
    }
   ],
   "source": [
    "print(trans_path.shape)\n",
    "print(trans_det.shape)"
   ]
  },
  {
   "cell_type": "code",
   "execution_count": 35,
   "id": "63a3736a",
   "metadata": {},
   "outputs": [],
   "source": [
    "trans_data = trans_path.merge(trans_det,how = 'inner',on = 'Transaction ID')"
   ]
  },
  {
   "cell_type": "code",
   "execution_count": 36,
   "id": "e552a568",
   "metadata": {},
   "outputs": [
    {
     "data": {
      "text/html": [
       "<div>\n",
       "<style scoped>\n",
       "    .dataframe tbody tr th:only-of-type {\n",
       "        vertical-align: middle;\n",
       "    }\n",
       "\n",
       "    .dataframe tbody tr th {\n",
       "        vertical-align: top;\n",
       "    }\n",
       "\n",
       "    .dataframe thead th {\n",
       "        text-align: right;\n",
       "    }\n",
       "</style>\n",
       "<table border=\"1\" class=\"dataframe\">\n",
       "  <thead>\n",
       "    <tr style=\"text-align: right;\">\n",
       "      <th></th>\n",
       "      <th>Transaction ID</th>\n",
       "      <th>Account_To</th>\n",
       "      <th>Account From</th>\n",
       "      <th>Transaction Date</th>\n",
       "      <th>Value</th>\n",
       "      <th>Cancelled?</th>\n",
       "    </tr>\n",
       "  </thead>\n",
       "  <tbody>\n",
       "    <tr>\n",
       "      <th>0</th>\n",
       "      <td>1957155</td>\n",
       "      <td>27356852</td>\n",
       "      <td>76206810</td>\n",
       "      <td>2023-02-01</td>\n",
       "      <td>128.78</td>\n",
       "      <td>N</td>\n",
       "    </tr>\n",
       "    <tr>\n",
       "      <th>1</th>\n",
       "      <td>2147025</td>\n",
       "      <td>44242297</td>\n",
       "      <td>24826358</td>\n",
       "      <td>2023-02-09</td>\n",
       "      <td>170.19</td>\n",
       "      <td>N</td>\n",
       "    </tr>\n",
       "    <tr>\n",
       "      <th>2</th>\n",
       "      <td>3065073</td>\n",
       "      <td>10295384</td>\n",
       "      <td>52104303</td>\n",
       "      <td>2023-02-06</td>\n",
       "      <td>87.57</td>\n",
       "      <td>N</td>\n",
       "    </tr>\n",
       "  </tbody>\n",
       "</table>\n",
       "</div>"
      ],
      "text/plain": [
       "   Transaction ID  Account_To  Account From Transaction Date   Value  \\\n",
       "0         1957155    27356852      76206810       2023-02-01  128.78   \n",
       "1         2147025    44242297      24826358       2023-02-09  170.19   \n",
       "2         3065073    10295384      52104303       2023-02-06   87.57   \n",
       "\n",
       "  Cancelled?  \n",
       "0          N  \n",
       "1          N  \n",
       "2          N  "
      ]
     },
     "execution_count": 36,
     "metadata": {},
     "output_type": "execute_result"
    }
   ],
   "source": [
    "trans_data.head(3)"
   ]
  },
  {
   "cell_type": "code",
   "execution_count": 37,
   "id": "6edb0db6",
   "metadata": {},
   "outputs": [
    {
     "name": "stdout",
     "output_type": "stream",
     "text": [
      "Index(['Account Number', 'Account Type', 'Account Holder ID', 'Balance Date',\n",
      "       'Balance'],\n",
      "      dtype='object')\n",
      "Index(['Account Holder ID', 'Name', 'Date of Birth', 'Contact Number',\n",
      "       'First Line of Address'],\n",
      "      dtype='object')\n"
     ]
    }
   ],
   "source": [
    "print(acc_info.columns)\n",
    "print(acc_hold.columns)"
   ]
  },
  {
   "cell_type": "code",
   "execution_count": 38,
   "id": "9f027ee9",
   "metadata": {},
   "outputs": [
    {
     "name": "stdout",
     "output_type": "stream",
     "text": [
      "(3072, 5)\n",
      "(3072, 5)\n"
     ]
    }
   ],
   "source": [
    "print(acc_info.shape)\n",
    "print(acc_hold.shape)"
   ]
  },
  {
   "cell_type": "code",
   "execution_count": 39,
   "id": "845f167a",
   "metadata": {},
   "outputs": [],
   "source": [
    "acc_data = acc_info.merge(acc_hold,how = 'inner',on = 'Account Holder ID')"
   ]
  },
  {
   "cell_type": "code",
   "execution_count": 40,
   "id": "6cd9efe7",
   "metadata": {},
   "outputs": [
    {
     "data": {
      "text/html": [
       "<div>\n",
       "<style scoped>\n",
       "    .dataframe tbody tr th:only-of-type {\n",
       "        vertical-align: middle;\n",
       "    }\n",
       "\n",
       "    .dataframe tbody tr th {\n",
       "        vertical-align: top;\n",
       "    }\n",
       "\n",
       "    .dataframe thead th {\n",
       "        text-align: right;\n",
       "    }\n",
       "</style>\n",
       "<table border=\"1\" class=\"dataframe\">\n",
       "  <thead>\n",
       "    <tr style=\"text-align: right;\">\n",
       "      <th></th>\n",
       "      <th>Account Number</th>\n",
       "      <th>Account Type</th>\n",
       "      <th>Account Holder ID</th>\n",
       "      <th>Balance Date</th>\n",
       "      <th>Balance</th>\n",
       "      <th>Name</th>\n",
       "      <th>Date of Birth</th>\n",
       "      <th>Contact Number</th>\n",
       "      <th>First Line of Address</th>\n",
       "    </tr>\n",
       "  </thead>\n",
       "  <tbody>\n",
       "    <tr>\n",
       "      <th>0</th>\n",
       "      <td>10005367</td>\n",
       "      <td>Platinum</td>\n",
       "      <td>70390615</td>\n",
       "      <td>2023-01-31</td>\n",
       "      <td>728.25</td>\n",
       "      <td>Mahmoud Hehnke</td>\n",
       "      <td>28/08/1995</td>\n",
       "      <td>7479286250</td>\n",
       "      <td>18535 Loftsgordon Park</td>\n",
       "    </tr>\n",
       "    <tr>\n",
       "      <th>1</th>\n",
       "      <td>10011977</td>\n",
       "      <td>Basic</td>\n",
       "      <td>20123998</td>\n",
       "      <td>2023-01-31</td>\n",
       "      <td>676.54</td>\n",
       "      <td>Maynord Surgeoner</td>\n",
       "      <td>21/08/1997</td>\n",
       "      <td>7716107305</td>\n",
       "      <td>6422 Buena Vista Plaza</td>\n",
       "    </tr>\n",
       "    <tr>\n",
       "      <th>2</th>\n",
       "      <td>10024680</td>\n",
       "      <td>Platinum</td>\n",
       "      <td>54374080</td>\n",
       "      <td>2023-01-31</td>\n",
       "      <td>567.46</td>\n",
       "      <td>Giraldo Kimbley</td>\n",
       "      <td>22/03/1995</td>\n",
       "      <td>7489940612</td>\n",
       "      <td>93005 Summer Ridge Avenue</td>\n",
       "    </tr>\n",
       "  </tbody>\n",
       "</table>\n",
       "</div>"
      ],
      "text/plain": [
       "   Account Number Account Type  Account Holder ID Balance Date  Balance  \\\n",
       "0        10005367     Platinum           70390615   2023-01-31   728.25   \n",
       "1        10011977        Basic           20123998   2023-01-31   676.54   \n",
       "2        10024680     Platinum           54374080   2023-01-31   567.46   \n",
       "\n",
       "                Name Date of Birth  Contact Number      First Line of Address  \n",
       "0     Mahmoud Hehnke    28/08/1995      7479286250     18535 Loftsgordon Park  \n",
       "1  Maynord Surgeoner    21/08/1997      7716107305     6422 Buena Vista Plaza  \n",
       "2    Giraldo Kimbley    22/03/1995      7489940612  93005 Summer Ridge Avenue  "
      ]
     },
     "execution_count": 40,
     "metadata": {},
     "output_type": "execute_result"
    }
   ],
   "source": [
    "acc_data.head(3)"
   ]
  },
  {
   "cell_type": "code",
   "execution_count": 41,
   "id": "aa04f8a6",
   "metadata": {},
   "outputs": [
    {
     "name": "stdout",
     "output_type": "stream",
     "text": [
      "Index(['Transaction ID', 'Account_To', 'Account From', 'Transaction Date',\n",
      "       'Value', 'Cancelled?'],\n",
      "      dtype='object')\n",
      "Index(['Account Number', 'Account Type', 'Account Holder ID', 'Balance Date',\n",
      "       'Balance', 'Name', 'Date of Birth', 'Contact Number',\n",
      "       'First Line of Address'],\n",
      "      dtype='object')\n"
     ]
    }
   ],
   "source": [
    "print(trans_data.columns)\n",
    "print(acc_data.columns)"
   ]
  },
  {
   "cell_type": "code",
   "execution_count": 42,
   "id": "63deab67",
   "metadata": {},
   "outputs": [],
   "source": [
    "trans_data.rename(columns = {'Account From':'Account Number'} , inplace = True)"
   ]
  },
  {
   "cell_type": "code",
   "execution_count": 43,
   "id": "7da51928",
   "metadata": {},
   "outputs": [],
   "source": [
    "final = acc_data.merge(trans_data, how = 'inner', on = 'Account Number')"
   ]
  },
  {
   "cell_type": "code",
   "execution_count": 44,
   "id": "caa56159",
   "metadata": {},
   "outputs": [
    {
     "data": {
      "text/html": [
       "<div>\n",
       "<style scoped>\n",
       "    .dataframe tbody tr th:only-of-type {\n",
       "        vertical-align: middle;\n",
       "    }\n",
       "\n",
       "    .dataframe tbody tr th {\n",
       "        vertical-align: top;\n",
       "    }\n",
       "\n",
       "    .dataframe thead th {\n",
       "        text-align: right;\n",
       "    }\n",
       "</style>\n",
       "<table border=\"1\" class=\"dataframe\">\n",
       "  <thead>\n",
       "    <tr style=\"text-align: right;\">\n",
       "      <th></th>\n",
       "      <th>Account Number</th>\n",
       "      <th>Account Type</th>\n",
       "      <th>Account Holder ID</th>\n",
       "      <th>Balance Date</th>\n",
       "      <th>Balance</th>\n",
       "      <th>Name</th>\n",
       "      <th>Date of Birth</th>\n",
       "      <th>Contact Number</th>\n",
       "      <th>First Line of Address</th>\n",
       "      <th>Transaction ID</th>\n",
       "      <th>Account_To</th>\n",
       "      <th>Transaction Date</th>\n",
       "      <th>Value</th>\n",
       "      <th>Cancelled?</th>\n",
       "    </tr>\n",
       "  </thead>\n",
       "  <tbody>\n",
       "    <tr>\n",
       "      <th>0</th>\n",
       "      <td>10005367</td>\n",
       "      <td>Platinum</td>\n",
       "      <td>70390615</td>\n",
       "      <td>2023-01-31</td>\n",
       "      <td>728.25</td>\n",
       "      <td>Mahmoud Hehnke</td>\n",
       "      <td>28/08/1995</td>\n",
       "      <td>7479286250</td>\n",
       "      <td>18535 Loftsgordon Park</td>\n",
       "      <td>1711864935</td>\n",
       "      <td>43772330</td>\n",
       "      <td>2023-02-08</td>\n",
       "      <td>65.49</td>\n",
       "      <td>N</td>\n",
       "    </tr>\n",
       "    <tr>\n",
       "      <th>1</th>\n",
       "      <td>10005367</td>\n",
       "      <td>Platinum</td>\n",
       "      <td>70390615</td>\n",
       "      <td>2023-01-31</td>\n",
       "      <td>728.25</td>\n",
       "      <td>Mahmoud Hehnke</td>\n",
       "      <td>28/08/1995</td>\n",
       "      <td>7479286250</td>\n",
       "      <td>18535 Loftsgordon Park</td>\n",
       "      <td>1753186544</td>\n",
       "      <td>65199307</td>\n",
       "      <td>2023-02-02</td>\n",
       "      <td>1097.60</td>\n",
       "      <td>N</td>\n",
       "    </tr>\n",
       "    <tr>\n",
       "      <th>2</th>\n",
       "      <td>10005367</td>\n",
       "      <td>Platinum</td>\n",
       "      <td>70390615</td>\n",
       "      <td>2023-01-31</td>\n",
       "      <td>728.25</td>\n",
       "      <td>Mahmoud Hehnke</td>\n",
       "      <td>28/08/1995</td>\n",
       "      <td>7479286250</td>\n",
       "      <td>18535 Loftsgordon Park</td>\n",
       "      <td>3011215596</td>\n",
       "      <td>44427272</td>\n",
       "      <td>2023-02-05</td>\n",
       "      <td>108.26</td>\n",
       "      <td>N</td>\n",
       "    </tr>\n",
       "    <tr>\n",
       "      <th>3</th>\n",
       "      <td>10005367</td>\n",
       "      <td>Platinum</td>\n",
       "      <td>70390615</td>\n",
       "      <td>2023-01-31</td>\n",
       "      <td>728.25</td>\n",
       "      <td>Mahmoud Hehnke</td>\n",
       "      <td>28/08/1995</td>\n",
       "      <td>7479286250</td>\n",
       "      <td>18535 Loftsgordon Park</td>\n",
       "      <td>8072094629</td>\n",
       "      <td>34681193</td>\n",
       "      <td>2023-02-04</td>\n",
       "      <td>67.01</td>\n",
       "      <td>N</td>\n",
       "    </tr>\n",
       "    <tr>\n",
       "      <th>4</th>\n",
       "      <td>10005367</td>\n",
       "      <td>Platinum</td>\n",
       "      <td>70390615</td>\n",
       "      <td>2023-01-31</td>\n",
       "      <td>728.25</td>\n",
       "      <td>Mahmoud Hehnke</td>\n",
       "      <td>28/08/1995</td>\n",
       "      <td>7479286250</td>\n",
       "      <td>18535 Loftsgordon Park</td>\n",
       "      <td>9755066160</td>\n",
       "      <td>39620163</td>\n",
       "      <td>2023-02-10</td>\n",
       "      <td>27.61</td>\n",
       "      <td>N</td>\n",
       "    </tr>\n",
       "  </tbody>\n",
       "</table>\n",
       "</div>"
      ],
      "text/plain": [
       "   Account Number Account Type  Account Holder ID Balance Date  Balance  \\\n",
       "0        10005367     Platinum           70390615   2023-01-31   728.25   \n",
       "1        10005367     Platinum           70390615   2023-01-31   728.25   \n",
       "2        10005367     Platinum           70390615   2023-01-31   728.25   \n",
       "3        10005367     Platinum           70390615   2023-01-31   728.25   \n",
       "4        10005367     Platinum           70390615   2023-01-31   728.25   \n",
       "\n",
       "             Name Date of Birth  Contact Number   First Line of Address  \\\n",
       "0  Mahmoud Hehnke    28/08/1995      7479286250  18535 Loftsgordon Park   \n",
       "1  Mahmoud Hehnke    28/08/1995      7479286250  18535 Loftsgordon Park   \n",
       "2  Mahmoud Hehnke    28/08/1995      7479286250  18535 Loftsgordon Park   \n",
       "3  Mahmoud Hehnke    28/08/1995      7479286250  18535 Loftsgordon Park   \n",
       "4  Mahmoud Hehnke    28/08/1995      7479286250  18535 Loftsgordon Park   \n",
       "\n",
       "   Transaction ID  Account_To Transaction Date    Value Cancelled?  \n",
       "0      1711864935    43772330       2023-02-08    65.49          N  \n",
       "1      1753186544    65199307       2023-02-02  1097.60          N  \n",
       "2      3011215596    44427272       2023-02-05   108.26          N  \n",
       "3      8072094629    34681193       2023-02-04    67.01          N  \n",
       "4      9755066160    39620163       2023-02-10    27.61          N  "
      ]
     },
     "execution_count": 44,
     "metadata": {},
     "output_type": "execute_result"
    }
   ],
   "source": [
    "final.head(5)"
   ]
  },
  {
   "cell_type": "code",
   "execution_count": 45,
   "id": "2b1108c0",
   "metadata": {},
   "outputs": [
    {
     "data": {
      "text/plain": [
       "(8975, 14)"
      ]
     },
     "execution_count": 45,
     "metadata": {},
     "output_type": "execute_result"
    }
   ],
   "source": [
    "final.shape"
   ]
  },
  {
   "cell_type": "markdown",
   "id": "a95eb84a",
   "metadata": {},
   "source": [
    "1. Filter out cancelled transactions \n",
    "\n",
    "2. Filter out Platinum accounts"
   ]
  },
  {
   "cell_type": "code",
   "execution_count": 46,
   "id": "d0798c79",
   "metadata": {},
   "outputs": [],
   "source": [
    "final_1 = final[(final['Cancelled?'] == 'N') & (final['Account Type']!= 'Platinum')]"
   ]
  },
  {
   "cell_type": "code",
   "execution_count": 47,
   "id": "7b1146db",
   "metadata": {},
   "outputs": [
    {
     "data": {
      "text/plain": [
       "(7567, 14)"
      ]
     },
     "execution_count": 47,
     "metadata": {},
     "output_type": "execute_result"
    }
   ],
   "source": [
    "final_1.shape"
   ]
  },
  {
   "cell_type": "code",
   "execution_count": null,
   "id": "3bceaa5b",
   "metadata": {},
   "outputs": [],
   "source": []
  },
  {
   "cell_type": "code",
   "execution_count": 48,
   "id": "0caf81f5",
   "metadata": {},
   "outputs": [],
   "source": [
    "final_1=final_1[final_1['Value'] > 1000]"
   ]
  },
  {
   "cell_type": "code",
   "execution_count": 49,
   "id": "4a477e45",
   "metadata": {},
   "outputs": [
    {
     "data": {
      "text/plain": [
       "Index(['Account Number', 'Account Type', 'Account Holder ID', 'Balance Date',\n",
       "       'Balance', 'Name', 'Date of Birth', 'Contact Number',\n",
       "       'First Line of Address', 'Transaction ID', 'Account_To',\n",
       "       'Transaction Date', 'Value', 'Cancelled?'],\n",
       "      dtype='object')"
      ]
     },
     "execution_count": 49,
     "metadata": {},
     "output_type": "execute_result"
    }
   ],
   "source": [
    "final_1.columns"
   ]
  },
  {
   "cell_type": "code",
   "execution_count": 50,
   "id": "c2796022",
   "metadata": {},
   "outputs": [],
   "source": [
    "cols = ['Transaction ID','Account_To','Transaction Date','Value','Name','Date of Birth','Contact Number','First Line of Address',\n",
    "       'Account Number','Account Type','Balance Date','Balance']"
   ]
  },
  {
   "cell_type": "code",
   "execution_count": 51,
   "id": "5d0b4e61",
   "metadata": {},
   "outputs": [
    {
     "data": {
      "text/html": [
       "<div>\n",
       "<style scoped>\n",
       "    .dataframe tbody tr th:only-of-type {\n",
       "        vertical-align: middle;\n",
       "    }\n",
       "\n",
       "    .dataframe tbody tr th {\n",
       "        vertical-align: top;\n",
       "    }\n",
       "\n",
       "    .dataframe thead th {\n",
       "        text-align: right;\n",
       "    }\n",
       "</style>\n",
       "<table border=\"1\" class=\"dataframe\">\n",
       "  <thead>\n",
       "    <tr style=\"text-align: right;\">\n",
       "      <th></th>\n",
       "      <th>Transaction ID</th>\n",
       "      <th>Account_To</th>\n",
       "      <th>Transaction Date</th>\n",
       "      <th>Value</th>\n",
       "      <th>Name</th>\n",
       "      <th>Date of Birth</th>\n",
       "      <th>Contact Number</th>\n",
       "      <th>First Line of Address</th>\n",
       "      <th>Account Number</th>\n",
       "      <th>Account Type</th>\n",
       "      <th>Balance Date</th>\n",
       "      <th>Balance</th>\n",
       "    </tr>\n",
       "  </thead>\n",
       "  <tbody>\n",
       "    <tr>\n",
       "      <th>33</th>\n",
       "      <td>4230172990</td>\n",
       "      <td>68315462</td>\n",
       "      <td>2023-02-09</td>\n",
       "      <td>1410.1</td>\n",
       "      <td>Federico Cathro</td>\n",
       "      <td>13/12/1985</td>\n",
       "      <td>7283906757</td>\n",
       "      <td>12 Green Hill</td>\n",
       "      <td>10231977</td>\n",
       "      <td>Basic</td>\n",
       "      <td>2023-01-31</td>\n",
       "      <td>61.63</td>\n",
       "    </tr>\n",
       "    <tr>\n",
       "      <th>37</th>\n",
       "      <td>7252109585</td>\n",
       "      <td>69344396</td>\n",
       "      <td>2023-02-02</td>\n",
       "      <td>1190.9</td>\n",
       "      <td>Kizzee Puddephatt</td>\n",
       "      <td>18/10/2003</td>\n",
       "      <td>7598835878</td>\n",
       "      <td>72404 Maywood Avenue</td>\n",
       "      <td>10232603</td>\n",
       "      <td>Gold</td>\n",
       "      <td>2023-01-31</td>\n",
       "      <td>732.55</td>\n",
       "    </tr>\n",
       "    <tr>\n",
       "      <th>38</th>\n",
       "      <td>9161410454</td>\n",
       "      <td>91972687</td>\n",
       "      <td>2023-02-10</td>\n",
       "      <td>1128.4</td>\n",
       "      <td>Kizzee Puddephatt</td>\n",
       "      <td>18/10/2003</td>\n",
       "      <td>7598835878</td>\n",
       "      <td>72404 Maywood Avenue</td>\n",
       "      <td>10232603</td>\n",
       "      <td>Gold</td>\n",
       "      <td>2023-01-31</td>\n",
       "      <td>732.55</td>\n",
       "    </tr>\n",
       "    <tr>\n",
       "      <th>43</th>\n",
       "      <td>7934676808</td>\n",
       "      <td>69664627</td>\n",
       "      <td>2023-02-12</td>\n",
       "      <td>1482.9</td>\n",
       "      <td>Kalvin Duetschens</td>\n",
       "      <td>27/03/1965</td>\n",
       "      <td>7727619510</td>\n",
       "      <td>19032 Duke Parkway</td>\n",
       "      <td>10243581</td>\n",
       "      <td>Gold</td>\n",
       "      <td>2023-01-31</td>\n",
       "      <td>104.27</td>\n",
       "    </tr>\n",
       "    <tr>\n",
       "      <th>65</th>\n",
       "      <td>108536548</td>\n",
       "      <td>86207903</td>\n",
       "      <td>2023-02-06</td>\n",
       "      <td>1085.4</td>\n",
       "      <td>Dud Gaunt</td>\n",
       "      <td>04/12/1983</td>\n",
       "      <td>7681115087</td>\n",
       "      <td>3 Canary Avenue</td>\n",
       "      <td>10553619</td>\n",
       "      <td>Basic</td>\n",
       "      <td>2023-01-31</td>\n",
       "      <td>756.20</td>\n",
       "    </tr>\n",
       "    <tr>\n",
       "      <th>...</th>\n",
       "      <td>...</td>\n",
       "      <td>...</td>\n",
       "      <td>...</td>\n",
       "      <td>...</td>\n",
       "      <td>...</td>\n",
       "      <td>...</td>\n",
       "      <td>...</td>\n",
       "      <td>...</td>\n",
       "      <td>...</td>\n",
       "      <td>...</td>\n",
       "      <td>...</td>\n",
       "      <td>...</td>\n",
       "    </tr>\n",
       "    <tr>\n",
       "      <th>8951</th>\n",
       "      <td>908048920</td>\n",
       "      <td>97294152</td>\n",
       "      <td>2023-02-01</td>\n",
       "      <td>1194.4</td>\n",
       "      <td>Kerrill Dunstan</td>\n",
       "      <td>18/02/1952</td>\n",
       "      <td>7605122700</td>\n",
       "      <td>921 Merrick Way</td>\n",
       "      <td>99729369</td>\n",
       "      <td>Basic</td>\n",
       "      <td>2023-01-31</td>\n",
       "      <td>751.01</td>\n",
       "    </tr>\n",
       "    <tr>\n",
       "      <th>8954</th>\n",
       "      <td>5567411537</td>\n",
       "      <td>71383376</td>\n",
       "      <td>2023-02-03</td>\n",
       "      <td>1619.6</td>\n",
       "      <td>Kerrill Dunstan</td>\n",
       "      <td>18/02/1952</td>\n",
       "      <td>7605122700</td>\n",
       "      <td>921 Merrick Way</td>\n",
       "      <td>99729369</td>\n",
       "      <td>Basic</td>\n",
       "      <td>2023-01-31</td>\n",
       "      <td>751.01</td>\n",
       "    </tr>\n",
       "    <tr>\n",
       "      <th>8955</th>\n",
       "      <td>4286864758</td>\n",
       "      <td>42726921</td>\n",
       "      <td>2023-02-12</td>\n",
       "      <td>1342.4</td>\n",
       "      <td>Jana Sibthorp</td>\n",
       "      <td>02/03/1938</td>\n",
       "      <td>7302718672</td>\n",
       "      <td>48 Sutteridge Plaza</td>\n",
       "      <td>99734848</td>\n",
       "      <td>Gold</td>\n",
       "      <td>2023-01-31</td>\n",
       "      <td>354.29</td>\n",
       "    </tr>\n",
       "    <tr>\n",
       "      <th>8957</th>\n",
       "      <td>202263606</td>\n",
       "      <td>22035411</td>\n",
       "      <td>2023-02-02</td>\n",
       "      <td>1028.8</td>\n",
       "      <td>Mata Brownett</td>\n",
       "      <td>16/07/1931</td>\n",
       "      <td>7314541365</td>\n",
       "      <td>5 Kenwood Park</td>\n",
       "      <td>99760030</td>\n",
       "      <td>Gold</td>\n",
       "      <td>2023-01-31</td>\n",
       "      <td>988.00</td>\n",
       "    </tr>\n",
       "    <tr>\n",
       "      <th>8962</th>\n",
       "      <td>8811694280</td>\n",
       "      <td>25510430</td>\n",
       "      <td>2023-02-06</td>\n",
       "      <td>1359.0</td>\n",
       "      <td>Tabby Matteotti</td>\n",
       "      <td>13/10/1962</td>\n",
       "      <td>7586210387</td>\n",
       "      <td>7517 Aberg Plaza</td>\n",
       "      <td>99791709</td>\n",
       "      <td>Gold</td>\n",
       "      <td>2023-01-31</td>\n",
       "      <td>15.05</td>\n",
       "    </tr>\n",
       "  </tbody>\n",
       "</table>\n",
       "<p>476 rows × 12 columns</p>\n",
       "</div>"
      ],
      "text/plain": [
       "      Transaction ID  Account_To Transaction Date   Value               Name  \\\n",
       "33        4230172990    68315462       2023-02-09  1410.1    Federico Cathro   \n",
       "37        7252109585    69344396       2023-02-02  1190.9  Kizzee Puddephatt   \n",
       "38        9161410454    91972687       2023-02-10  1128.4  Kizzee Puddephatt   \n",
       "43        7934676808    69664627       2023-02-12  1482.9  Kalvin Duetschens   \n",
       "65         108536548    86207903       2023-02-06  1085.4          Dud Gaunt   \n",
       "...              ...         ...              ...     ...                ...   \n",
       "8951       908048920    97294152       2023-02-01  1194.4    Kerrill Dunstan   \n",
       "8954      5567411537    71383376       2023-02-03  1619.6    Kerrill Dunstan   \n",
       "8955      4286864758    42726921       2023-02-12  1342.4      Jana Sibthorp   \n",
       "8957       202263606    22035411       2023-02-02  1028.8      Mata Brownett   \n",
       "8962      8811694280    25510430       2023-02-06  1359.0    Tabby Matteotti   \n",
       "\n",
       "     Date of Birth  Contact Number First Line of Address  Account Number  \\\n",
       "33      13/12/1985      7283906757         12 Green Hill        10231977   \n",
       "37      18/10/2003      7598835878  72404 Maywood Avenue        10232603   \n",
       "38      18/10/2003      7598835878  72404 Maywood Avenue        10232603   \n",
       "43      27/03/1965      7727619510    19032 Duke Parkway        10243581   \n",
       "65      04/12/1983      7681115087       3 Canary Avenue        10553619   \n",
       "...            ...             ...                   ...             ...   \n",
       "8951    18/02/1952      7605122700       921 Merrick Way        99729369   \n",
       "8954    18/02/1952      7605122700       921 Merrick Way        99729369   \n",
       "8955    02/03/1938      7302718672   48 Sutteridge Plaza        99734848   \n",
       "8957    16/07/1931      7314541365        5 Kenwood Park        99760030   \n",
       "8962    13/10/1962      7586210387      7517 Aberg Plaza        99791709   \n",
       "\n",
       "     Account Type Balance Date  Balance  \n",
       "33          Basic   2023-01-31    61.63  \n",
       "37           Gold   2023-01-31   732.55  \n",
       "38           Gold   2023-01-31   732.55  \n",
       "43           Gold   2023-01-31   104.27  \n",
       "65          Basic   2023-01-31   756.20  \n",
       "...           ...          ...      ...  \n",
       "8951        Basic   2023-01-31   751.01  \n",
       "8954        Basic   2023-01-31   751.01  \n",
       "8955         Gold   2023-01-31   354.29  \n",
       "8957         Gold   2023-01-31   988.00  \n",
       "8962         Gold   2023-01-31    15.05  \n",
       "\n",
       "[476 rows x 12 columns]"
      ]
     },
     "execution_count": 51,
     "metadata": {},
     "output_type": "execute_result"
    }
   ],
   "source": [
    "final_1.reindex(columns = cols)"
   ]
  },
  {
   "cell_type": "code",
   "execution_count": 52,
   "id": "35678ff2",
   "metadata": {},
   "outputs": [],
   "source": [
    "final_1.to_csv(\"Week_7_output.csv\")"
   ]
  },
  {
   "cell_type": "code",
   "execution_count": null,
   "id": "999bbfcc",
   "metadata": {},
   "outputs": [],
   "source": []
  }
 ],
 "metadata": {
  "kernelspec": {
   "display_name": "Python 3 (ipykernel)",
   "language": "python",
   "name": "python3"
  },
  "language_info": {
   "codemirror_mode": {
    "name": "ipython",
    "version": 3
   },
   "file_extension": ".py",
   "mimetype": "text/x-python",
   "name": "python",
   "nbconvert_exporter": "python",
   "pygments_lexer": "ipython3",
   "version": "3.9.13"
  }
 },
 "nbformat": 4,
 "nbformat_minor": 5
}
