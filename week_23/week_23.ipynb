{
 "cells": [
  {
   "cell_type": "code",
   "execution_count": null,
   "id": "1747f90c",
   "metadata": {},
   "outputs": [],
   "source": [
    "#week_23 - Is it the teacher or the student? Part I\n"
   ]
  },
  {
   "cell_type": "code",
   "execution_count": null,
   "id": "2e1a739c",
   "metadata": {},
   "outputs": [],
   "source": []
  },
  {
   "cell_type": "code",
   "execution_count": 1,
   "id": "91077181",
   "metadata": {},
   "outputs": [],
   "source": [
    "import pandas as pd\n",
    "import numpy as np"
   ]
  },
  {
   "cell_type": "code",
   "execution_count": 2,
   "id": "a3a9f2e4",
   "metadata": {},
   "outputs": [],
   "source": [
    "df = pd.DataFrame()"
   ]
  },
  {
   "cell_type": "code",
   "execution_count": 3,
   "id": "6bd1cc58",
   "metadata": {},
   "outputs": [],
   "source": [
    "data_dict = pd.read_excel('Student Input.xlsx',sheet_name = None)"
   ]
  },
  {
   "cell_type": "code",
   "execution_count": 4,
   "id": "31aa6d48",
   "metadata": {},
   "outputs": [
    {
     "data": {
      "text/plain": [
       "dict_keys(['Student Info', 'Results'])"
      ]
     },
     "execution_count": 4,
     "metadata": {},
     "output_type": "execute_result"
    }
   ],
   "source": [
    "data_dict.keys()"
   ]
  },
  {
   "cell_type": "code",
   "execution_count": 5,
   "id": "befef2a1",
   "metadata": {},
   "outputs": [],
   "source": [
    "stud_info = pd.read_excel('Student Input.xlsx',sheet_name = 'Student Info')"
   ]
  },
  {
   "cell_type": "code",
   "execution_count": 6,
   "id": "d8949e86",
   "metadata": {},
   "outputs": [
    {
     "data": {
      "text/html": [
       "<div>\n",
       "<style scoped>\n",
       "    .dataframe tbody tr th:only-of-type {\n",
       "        vertical-align: middle;\n",
       "    }\n",
       "\n",
       "    .dataframe tbody tr th {\n",
       "        vertical-align: top;\n",
       "    }\n",
       "\n",
       "    .dataframe thead th {\n",
       "        text-align: right;\n",
       "    }\n",
       "</style>\n",
       "<table border=\"1\" class=\"dataframe\">\n",
       "  <thead>\n",
       "    <tr style=\"text-align: right;\">\n",
       "      <th></th>\n",
       "      <th>Student ID</th>\n",
       "      <th>Full name</th>\n",
       "      <th>Gender</th>\n",
       "      <th>Class</th>\n",
       "    </tr>\n",
       "  </thead>\n",
       "  <tbody>\n",
       "    <tr>\n",
       "      <th>0</th>\n",
       "      <td>1</td>\n",
       "      <td>Alice Johnson</td>\n",
       "      <td>Female</td>\n",
       "      <td>10A</td>\n",
       "    </tr>\n",
       "    <tr>\n",
       "      <th>1</th>\n",
       "      <td>2</td>\n",
       "      <td>Bob Smith</td>\n",
       "      <td>Male</td>\n",
       "      <td>9B</td>\n",
       "    </tr>\n",
       "    <tr>\n",
       "      <th>2</th>\n",
       "      <td>3</td>\n",
       "      <td>Cathy Lee</td>\n",
       "      <td>Female</td>\n",
       "      <td>11C</td>\n",
       "    </tr>\n",
       "    <tr>\n",
       "      <th>3</th>\n",
       "      <td>4</td>\n",
       "      <td>David Chen</td>\n",
       "      <td>Male</td>\n",
       "      <td>10A</td>\n",
       "    </tr>\n",
       "    <tr>\n",
       "      <th>4</th>\n",
       "      <td>5</td>\n",
       "      <td>Emily Wang</td>\n",
       "      <td>Female</td>\n",
       "      <td>9B</td>\n",
       "    </tr>\n",
       "  </tbody>\n",
       "</table>\n",
       "</div>"
      ],
      "text/plain": [
       "    Student ID    Full name            Gender    Class \n",
       "0             1   Alice Johnson        Female    10A   \n",
       "1             2   Bob Smith            Male      9B    \n",
       "2             3   Cathy Lee            Female    11C   \n",
       "3             4   David Chen           Male      10A   \n",
       "4             5   Emily Wang           Female    9B    "
      ]
     },
     "execution_count": 6,
     "metadata": {},
     "output_type": "execute_result"
    }
   ],
   "source": [
    "stud_info.head(5)"
   ]
  },
  {
   "cell_type": "code",
   "execution_count": 7,
   "id": "c48013a7",
   "metadata": {},
   "outputs": [
    {
     "name": "stdout",
     "output_type": "stream",
     "text": [
      "<class 'pandas.core.frame.DataFrame'>\n",
      "RangeIndex: 50 entries, 0 to 49\n",
      "Data columns (total 4 columns):\n",
      " #   Column               Non-Null Count  Dtype \n",
      "---  ------               --------------  ----- \n",
      " 0    Student ID          50 non-null     int64 \n",
      " 1    Full name           50 non-null     object\n",
      " 2    Gender              50 non-null     object\n",
      " 3    Class               50 non-null     object\n",
      "dtypes: int64(1), object(3)\n",
      "memory usage: 1.7+ KB\n"
     ]
    }
   ],
   "source": [
    "stud_info.info()"
   ]
  },
  {
   "cell_type": "code",
   "execution_count": 8,
   "id": "647cae0a",
   "metadata": {},
   "outputs": [
    {
     "data": {
      "text/plain": [
       "(50, 4)"
      ]
     },
     "execution_count": 8,
     "metadata": {},
     "output_type": "execute_result"
    }
   ],
   "source": [
    "stud_info.shape"
   ]
  },
  {
   "cell_type": "code",
   "execution_count": 9,
   "id": "388412a8",
   "metadata": {},
   "outputs": [],
   "source": [
    "stud_res = pd.read_excel('Student Input.xlsx',sheet_name = 'Results')"
   ]
  },
  {
   "cell_type": "code",
   "execution_count": 10,
   "id": "7400a7ed",
   "metadata": {},
   "outputs": [
    {
     "data": {
      "text/html": [
       "<div>\n",
       "<style scoped>\n",
       "    .dataframe tbody tr th:only-of-type {\n",
       "        vertical-align: middle;\n",
       "    }\n",
       "\n",
       "    .dataframe tbody tr th {\n",
       "        vertical-align: top;\n",
       "    }\n",
       "\n",
       "    .dataframe thead th {\n",
       "        text-align: right;\n",
       "    }\n",
       "</style>\n",
       "<table border=\"1\" class=\"dataframe\">\n",
       "  <thead>\n",
       "    <tr style=\"text-align: right;\">\n",
       "      <th></th>\n",
       "      <th>Student ID</th>\n",
       "      <th>English</th>\n",
       "      <th>Economics</th>\n",
       "      <th>Psychology</th>\n",
       "    </tr>\n",
       "  </thead>\n",
       "  <tbody>\n",
       "    <tr>\n",
       "      <th>0</th>\n",
       "      <td>1</td>\n",
       "      <td>88</td>\n",
       "      <td>66</td>\n",
       "      <td>72</td>\n",
       "    </tr>\n",
       "    <tr>\n",
       "      <th>1</th>\n",
       "      <td>2</td>\n",
       "      <td>76</td>\n",
       "      <td>67</td>\n",
       "      <td>66</td>\n",
       "    </tr>\n",
       "    <tr>\n",
       "      <th>2</th>\n",
       "      <td>3</td>\n",
       "      <td>93</td>\n",
       "      <td>54</td>\n",
       "      <td>66</td>\n",
       "    </tr>\n",
       "    <tr>\n",
       "      <th>3</th>\n",
       "      <td>4</td>\n",
       "      <td>85</td>\n",
       "      <td>63</td>\n",
       "      <td>67</td>\n",
       "    </tr>\n",
       "    <tr>\n",
       "      <th>4</th>\n",
       "      <td>5</td>\n",
       "      <td>64</td>\n",
       "      <td>57</td>\n",
       "      <td>62</td>\n",
       "    </tr>\n",
       "  </tbody>\n",
       "</table>\n",
       "</div>"
      ],
      "text/plain": [
       "   Student ID  English  Economics  Psychology\n",
       "0           1       88         66          72\n",
       "1           2       76         67          66\n",
       "2           3       93         54          66\n",
       "3           4       85         63          67\n",
       "4           5       64         57          62"
      ]
     },
     "execution_count": 10,
     "metadata": {},
     "output_type": "execute_result"
    }
   ],
   "source": [
    "stud_res.head(5)"
   ]
  },
  {
   "cell_type": "code",
   "execution_count": 11,
   "id": "af137333",
   "metadata": {},
   "outputs": [
    {
     "name": "stdout",
     "output_type": "stream",
     "text": [
      "<class 'pandas.core.frame.DataFrame'>\n",
      "RangeIndex: 50 entries, 0 to 49\n",
      "Data columns (total 4 columns):\n",
      " #   Column      Non-Null Count  Dtype\n",
      "---  ------      --------------  -----\n",
      " 0   Student ID  50 non-null     int64\n",
      " 1   English     50 non-null     int64\n",
      " 2   Economics   50 non-null     int64\n",
      " 3   Psychology  50 non-null     int64\n",
      "dtypes: int64(4)\n",
      "memory usage: 1.7 KB\n"
     ]
    }
   ],
   "source": [
    "stud_res.info()"
   ]
  },
  {
   "cell_type": "code",
   "execution_count": 12,
   "id": "68273aaf",
   "metadata": {},
   "outputs": [
    {
     "data": {
      "text/plain": [
       "(50, 4)"
      ]
     },
     "execution_count": 12,
     "metadata": {},
     "output_type": "execute_result"
    }
   ],
   "source": [
    "stud_res.shape"
   ]
  },
  {
   "cell_type": "code",
   "execution_count": 13,
   "id": "bc99f84d",
   "metadata": {},
   "outputs": [
    {
     "data": {
      "text/plain": [
       "Index([' Student ID ', ' Full name         ', ' Gender ', ' Class '], dtype='object')"
      ]
     },
     "execution_count": 13,
     "metadata": {},
     "output_type": "execute_result"
    }
   ],
   "source": [
    "stud_info.columns"
   ]
  },
  {
   "cell_type": "code",
   "execution_count": 14,
   "id": "88812092",
   "metadata": {},
   "outputs": [],
   "source": [
    "stud_info.rename(columns = {' Student ID ':'Student ID'},inplace = True)"
   ]
  },
  {
   "cell_type": "code",
   "execution_count": 15,
   "id": "899e8644",
   "metadata": {},
   "outputs": [
    {
     "data": {
      "text/plain": [
       "Index(['Student ID', 'English', 'Economics', 'Psychology'], dtype='object')"
      ]
     },
     "execution_count": 15,
     "metadata": {},
     "output_type": "execute_result"
    }
   ],
   "source": [
    "stud_res.columns"
   ]
  },
  {
   "cell_type": "code",
   "execution_count": 16,
   "id": "a0fa0024",
   "metadata": {},
   "outputs": [],
   "source": [
    "data = stud_info.merge(stud_res, how = 'inner',on = 'Student ID')"
   ]
  },
  {
   "cell_type": "code",
   "execution_count": 17,
   "id": "3ae40055",
   "metadata": {},
   "outputs": [
    {
     "data": {
      "text/html": [
       "<div>\n",
       "<style scoped>\n",
       "    .dataframe tbody tr th:only-of-type {\n",
       "        vertical-align: middle;\n",
       "    }\n",
       "\n",
       "    .dataframe tbody tr th {\n",
       "        vertical-align: top;\n",
       "    }\n",
       "\n",
       "    .dataframe thead th {\n",
       "        text-align: right;\n",
       "    }\n",
       "</style>\n",
       "<table border=\"1\" class=\"dataframe\">\n",
       "  <thead>\n",
       "    <tr style=\"text-align: right;\">\n",
       "      <th></th>\n",
       "      <th>Student ID</th>\n",
       "      <th>Full name</th>\n",
       "      <th>Gender</th>\n",
       "      <th>Class</th>\n",
       "      <th>English</th>\n",
       "      <th>Economics</th>\n",
       "      <th>Psychology</th>\n",
       "    </tr>\n",
       "  </thead>\n",
       "  <tbody>\n",
       "    <tr>\n",
       "      <th>0</th>\n",
       "      <td>1</td>\n",
       "      <td>Alice Johnson</td>\n",
       "      <td>Female</td>\n",
       "      <td>10A</td>\n",
       "      <td>88</td>\n",
       "      <td>66</td>\n",
       "      <td>72</td>\n",
       "    </tr>\n",
       "    <tr>\n",
       "      <th>1</th>\n",
       "      <td>2</td>\n",
       "      <td>Bob Smith</td>\n",
       "      <td>Male</td>\n",
       "      <td>9B</td>\n",
       "      <td>76</td>\n",
       "      <td>67</td>\n",
       "      <td>66</td>\n",
       "    </tr>\n",
       "    <tr>\n",
       "      <th>2</th>\n",
       "      <td>3</td>\n",
       "      <td>Cathy Lee</td>\n",
       "      <td>Female</td>\n",
       "      <td>11C</td>\n",
       "      <td>93</td>\n",
       "      <td>54</td>\n",
       "      <td>66</td>\n",
       "    </tr>\n",
       "    <tr>\n",
       "      <th>3</th>\n",
       "      <td>4</td>\n",
       "      <td>David Chen</td>\n",
       "      <td>Male</td>\n",
       "      <td>10A</td>\n",
       "      <td>85</td>\n",
       "      <td>63</td>\n",
       "      <td>67</td>\n",
       "    </tr>\n",
       "    <tr>\n",
       "      <th>4</th>\n",
       "      <td>5</td>\n",
       "      <td>Emily Wang</td>\n",
       "      <td>Female</td>\n",
       "      <td>9B</td>\n",
       "      <td>64</td>\n",
       "      <td>57</td>\n",
       "      <td>62</td>\n",
       "    </tr>\n",
       "  </tbody>\n",
       "</table>\n",
       "</div>"
      ],
      "text/plain": [
       "   Student ID   Full name            Gender    Class   English  Economics  \\\n",
       "0           1   Alice Johnson        Female    10A          88         66   \n",
       "1           2   Bob Smith            Male      9B           76         67   \n",
       "2           3   Cathy Lee            Female    11C          93         54   \n",
       "3           4   David Chen           Male      10A          85         63   \n",
       "4           5   Emily Wang           Female    9B           64         57   \n",
       "\n",
       "   Psychology  \n",
       "0          72  \n",
       "1          66  \n",
       "2          66  \n",
       "3          67  \n",
       "4          62  "
      ]
     },
     "execution_count": 17,
     "metadata": {},
     "output_type": "execute_result"
    }
   ],
   "source": [
    "data.head(5)"
   ]
  },
  {
   "cell_type": "code",
   "execution_count": 18,
   "id": "c4da0075",
   "metadata": {},
   "outputs": [
    {
     "data": {
      "text/plain": [
       "Index(['Student ID', ' Full name         ', ' Gender ', ' Class ', 'English',\n",
       "       'Economics', 'Psychology'],\n",
       "      dtype='object')"
      ]
     },
     "execution_count": 18,
     "metadata": {},
     "output_type": "execute_result"
    }
   ],
   "source": [
    "data.columns"
   ]
  },
  {
   "cell_type": "code",
   "execution_count": 19,
   "id": "07cfbf98",
   "metadata": {},
   "outputs": [],
   "source": [
    "#Aggregate to get the average grade per class for each subject\n",
    "\n",
    "\n",
    "sam = data.groupby([' Class '])[['English','Economics','Psychology']].mean()"
   ]
  },
  {
   "cell_type": "code",
   "execution_count": 20,
   "id": "4205e4fd",
   "metadata": {},
   "outputs": [
    {
     "data": {
      "text/plain": [
       "68.2"
      ]
     },
     "execution_count": 20,
     "metadata": {},
     "output_type": "execute_result"
    }
   ],
   "source": [
    "sam['English'].min()"
   ]
  },
  {
   "cell_type": "code",
   "execution_count": 21,
   "id": "ea722129",
   "metadata": {},
   "outputs": [
    {
     "data": {
      "text/plain": [
       "52.4"
      ]
     },
     "execution_count": 21,
     "metadata": {},
     "output_type": "execute_result"
    }
   ],
   "source": [
    "sam['Economics'].min()"
   ]
  },
  {
   "cell_type": "code",
   "execution_count": 22,
   "id": "72be47b1",
   "metadata": {},
   "outputs": [
    {
     "data": {
      "text/plain": [
       "59.6"
      ]
     },
     "execution_count": 22,
     "metadata": {},
     "output_type": "execute_result"
    }
   ],
   "source": [
    "sam['Psychology'].min()"
   ]
  },
  {
   "cell_type": "code",
   "execution_count": 23,
   "id": "89c34d37",
   "metadata": {},
   "outputs": [
    {
     "data": {
      "text/html": [
       "<div>\n",
       "<style scoped>\n",
       "    .dataframe tbody tr th:only-of-type {\n",
       "        vertical-align: middle;\n",
       "    }\n",
       "\n",
       "    .dataframe tbody tr th {\n",
       "        vertical-align: top;\n",
       "    }\n",
       "\n",
       "    .dataframe thead th {\n",
       "        text-align: right;\n",
       "    }\n",
       "</style>\n",
       "<table border=\"1\" class=\"dataframe\">\n",
       "  <thead>\n",
       "    <tr style=\"text-align: right;\">\n",
       "      <th></th>\n",
       "      <th>English</th>\n",
       "      <th>Economics</th>\n",
       "      <th>Psychology</th>\n",
       "    </tr>\n",
       "    <tr>\n",
       "      <th>Class</th>\n",
       "      <th></th>\n",
       "      <th></th>\n",
       "      <th></th>\n",
       "    </tr>\n",
       "  </thead>\n",
       "  <tbody>\n",
       "    <tr>\n",
       "      <th>10A</th>\n",
       "      <td>70.8</td>\n",
       "      <td>60.4</td>\n",
       "      <td>62.1</td>\n",
       "    </tr>\n",
       "    <tr>\n",
       "      <th>10B</th>\n",
       "      <td>77.2</td>\n",
       "      <td>54.0</td>\n",
       "      <td>70.6</td>\n",
       "    </tr>\n",
       "    <tr>\n",
       "      <th>11A</th>\n",
       "      <td>78.0</td>\n",
       "      <td>57.6</td>\n",
       "      <td>61.4</td>\n",
       "    </tr>\n",
       "    <tr>\n",
       "      <th>11C</th>\n",
       "      <td>79.1</td>\n",
       "      <td>55.2</td>\n",
       "      <td>62.9</td>\n",
       "    </tr>\n",
       "    <tr>\n",
       "      <th>9A</th>\n",
       "      <td>68.2</td>\n",
       "      <td>53.5</td>\n",
       "      <td>60.9</td>\n",
       "    </tr>\n",
       "    <tr>\n",
       "      <th>9B</th>\n",
       "      <td>73.4</td>\n",
       "      <td>52.4</td>\n",
       "      <td>59.6</td>\n",
       "    </tr>\n",
       "  </tbody>\n",
       "</table>\n",
       "</div>"
      ],
      "text/plain": [
       "         English  Economics  Psychology\n",
       " Class                                 \n",
       " 10A        70.8       60.4        62.1\n",
       " 10B        77.2       54.0        70.6\n",
       " 11A        78.0       57.6        61.4\n",
       " 11C        79.1       55.2        62.9\n",
       " 9A         68.2       53.5        60.9\n",
       " 9B         73.4       52.4        59.6"
      ]
     },
     "execution_count": 23,
     "metadata": {},
     "output_type": "execute_result"
    }
   ],
   "source": [
    "sam"
   ]
  },
  {
   "cell_type": "code",
   "execution_count": 24,
   "id": "426eec22",
   "metadata": {},
   "outputs": [],
   "source": [
    "sam.reset_index(inplace = True)"
   ]
  },
  {
   "cell_type": "code",
   "execution_count": 25,
   "id": "52e4ec75",
   "metadata": {},
   "outputs": [
    {
     "data": {
      "text/html": [
       "<div>\n",
       "<style scoped>\n",
       "    .dataframe tbody tr th:only-of-type {\n",
       "        vertical-align: middle;\n",
       "    }\n",
       "\n",
       "    .dataframe tbody tr th {\n",
       "        vertical-align: top;\n",
       "    }\n",
       "\n",
       "    .dataframe thead th {\n",
       "        text-align: right;\n",
       "    }\n",
       "</style>\n",
       "<table border=\"1\" class=\"dataframe\">\n",
       "  <thead>\n",
       "    <tr style=\"text-align: right;\">\n",
       "      <th></th>\n",
       "      <th>Class</th>\n",
       "      <th>English</th>\n",
       "      <th>Economics</th>\n",
       "      <th>Psychology</th>\n",
       "    </tr>\n",
       "  </thead>\n",
       "  <tbody>\n",
       "    <tr>\n",
       "      <th>0</th>\n",
       "      <td>10A</td>\n",
       "      <td>70.8</td>\n",
       "      <td>60.4</td>\n",
       "      <td>62.1</td>\n",
       "    </tr>\n",
       "    <tr>\n",
       "      <th>1</th>\n",
       "      <td>10B</td>\n",
       "      <td>77.2</td>\n",
       "      <td>54.0</td>\n",
       "      <td>70.6</td>\n",
       "    </tr>\n",
       "    <tr>\n",
       "      <th>2</th>\n",
       "      <td>11A</td>\n",
       "      <td>78.0</td>\n",
       "      <td>57.6</td>\n",
       "      <td>61.4</td>\n",
       "    </tr>\n",
       "    <tr>\n",
       "      <th>3</th>\n",
       "      <td>11C</td>\n",
       "      <td>79.1</td>\n",
       "      <td>55.2</td>\n",
       "      <td>62.9</td>\n",
       "    </tr>\n",
       "    <tr>\n",
       "      <th>4</th>\n",
       "      <td>9A</td>\n",
       "      <td>68.2</td>\n",
       "      <td>53.5</td>\n",
       "      <td>60.9</td>\n",
       "    </tr>\n",
       "    <tr>\n",
       "      <th>5</th>\n",
       "      <td>9B</td>\n",
       "      <td>73.4</td>\n",
       "      <td>52.4</td>\n",
       "      <td>59.6</td>\n",
       "    </tr>\n",
       "  </tbody>\n",
       "</table>\n",
       "</div>"
      ],
      "text/plain": [
       "    Class   English  Economics  Psychology\n",
       "0   10A        70.8       60.4        62.1\n",
       "1   10B        77.2       54.0        70.6\n",
       "2   11A        78.0       57.6        61.4\n",
       "3   11C        79.1       55.2        62.9\n",
       "4       9A     68.2       53.5        60.9\n",
       "5   9B         73.4       52.4        59.6"
      ]
     },
     "execution_count": 25,
     "metadata": {},
     "output_type": "execute_result"
    }
   ],
   "source": [
    "sam"
   ]
  },
  {
   "cell_type": "code",
   "execution_count": 26,
   "id": "f6cb8768",
   "metadata": {},
   "outputs": [
    {
     "data": {
      "text/plain": [
       "Index([' Class ', 'English', 'Economics', 'Psychology'], dtype='object')"
      ]
     },
     "execution_count": 26,
     "metadata": {},
     "output_type": "execute_result"
    }
   ],
   "source": [
    "sam.columns"
   ]
  },
  {
   "cell_type": "code",
   "execution_count": 27,
   "id": "c1c55624",
   "metadata": {},
   "outputs": [],
   "source": [
    "final = pd.melt(sam, id_vars=' Class ', var_name='Subject', value_name='Grade')"
   ]
  },
  {
   "cell_type": "code",
   "execution_count": 28,
   "id": "92f4b58d",
   "metadata": {},
   "outputs": [
    {
     "data": {
      "text/html": [
       "<div>\n",
       "<style scoped>\n",
       "    .dataframe tbody tr th:only-of-type {\n",
       "        vertical-align: middle;\n",
       "    }\n",
       "\n",
       "    .dataframe tbody tr th {\n",
       "        vertical-align: top;\n",
       "    }\n",
       "\n",
       "    .dataframe thead th {\n",
       "        text-align: right;\n",
       "    }\n",
       "</style>\n",
       "<table border=\"1\" class=\"dataframe\">\n",
       "  <thead>\n",
       "    <tr style=\"text-align: right;\">\n",
       "      <th></th>\n",
       "      <th>Class</th>\n",
       "      <th>Subject</th>\n",
       "      <th>Grade</th>\n",
       "    </tr>\n",
       "  </thead>\n",
       "  <tbody>\n",
       "    <tr>\n",
       "      <th>0</th>\n",
       "      <td>10A</td>\n",
       "      <td>English</td>\n",
       "      <td>70.8</td>\n",
       "    </tr>\n",
       "    <tr>\n",
       "      <th>1</th>\n",
       "      <td>10B</td>\n",
       "      <td>English</td>\n",
       "      <td>77.2</td>\n",
       "    </tr>\n",
       "    <tr>\n",
       "      <th>2</th>\n",
       "      <td>11A</td>\n",
       "      <td>English</td>\n",
       "      <td>78.0</td>\n",
       "    </tr>\n",
       "    <tr>\n",
       "      <th>3</th>\n",
       "      <td>11C</td>\n",
       "      <td>English</td>\n",
       "      <td>79.1</td>\n",
       "    </tr>\n",
       "    <tr>\n",
       "      <th>4</th>\n",
       "      <td>9A</td>\n",
       "      <td>English</td>\n",
       "      <td>68.2</td>\n",
       "    </tr>\n",
       "  </tbody>\n",
       "</table>\n",
       "</div>"
      ],
      "text/plain": [
       "    Class   Subject  Grade\n",
       "0   10A     English   70.8\n",
       "1   10B     English   77.2\n",
       "2   11A     English   78.0\n",
       "3   11C     English   79.1\n",
       "4       9A  English   68.2"
      ]
     },
     "execution_count": 28,
     "metadata": {},
     "output_type": "execute_result"
    }
   ],
   "source": [
    "final.head(5)"
   ]
  },
  {
   "cell_type": "code",
   "execution_count": 29,
   "id": "5ee592dd",
   "metadata": {},
   "outputs": [
    {
     "data": {
      "text/plain": [
       "Index([' Class ', 'Subject', 'Grade'], dtype='object')"
      ]
     },
     "execution_count": 29,
     "metadata": {},
     "output_type": "execute_result"
    }
   ],
   "source": [
    "final.columns"
   ]
  },
  {
   "cell_type": "code",
   "execution_count": 30,
   "id": "ce1cd62c",
   "metadata": {},
   "outputs": [],
   "source": [
    "final['rank']=final.groupby('Subject')['Grade'].rank()"
   ]
  },
  {
   "cell_type": "code",
   "execution_count": 31,
   "id": "fc1312fc",
   "metadata": {},
   "outputs": [],
   "source": [
    "final.sort_values(by = 'rank',ascending = True,inplace = True)"
   ]
  },
  {
   "cell_type": "code",
   "execution_count": 32,
   "id": "cb414e9f",
   "metadata": {},
   "outputs": [
    {
     "data": {
      "text/html": [
       "<div>\n",
       "<style scoped>\n",
       "    .dataframe tbody tr th:only-of-type {\n",
       "        vertical-align: middle;\n",
       "    }\n",
       "\n",
       "    .dataframe tbody tr th {\n",
       "        vertical-align: top;\n",
       "    }\n",
       "\n",
       "    .dataframe thead th {\n",
       "        text-align: right;\n",
       "    }\n",
       "</style>\n",
       "<table border=\"1\" class=\"dataframe\">\n",
       "  <thead>\n",
       "    <tr style=\"text-align: right;\">\n",
       "      <th></th>\n",
       "      <th>Class</th>\n",
       "      <th>Subject</th>\n",
       "      <th>Grade</th>\n",
       "      <th>rank</th>\n",
       "    </tr>\n",
       "  </thead>\n",
       "  <tbody>\n",
       "    <tr>\n",
       "      <th>17</th>\n",
       "      <td>9B</td>\n",
       "      <td>Psychology</td>\n",
       "      <td>59.6</td>\n",
       "      <td>1.0</td>\n",
       "    </tr>\n",
       "    <tr>\n",
       "      <th>11</th>\n",
       "      <td>9B</td>\n",
       "      <td>Economics</td>\n",
       "      <td>52.4</td>\n",
       "      <td>1.0</td>\n",
       "    </tr>\n",
       "    <tr>\n",
       "      <th>4</th>\n",
       "      <td>9A</td>\n",
       "      <td>English</td>\n",
       "      <td>68.2</td>\n",
       "      <td>1.0</td>\n",
       "    </tr>\n",
       "    <tr>\n",
       "      <th>10</th>\n",
       "      <td>9A</td>\n",
       "      <td>Economics</td>\n",
       "      <td>53.5</td>\n",
       "      <td>2.0</td>\n",
       "    </tr>\n",
       "    <tr>\n",
       "      <th>16</th>\n",
       "      <td>9A</td>\n",
       "      <td>Psychology</td>\n",
       "      <td>60.9</td>\n",
       "      <td>2.0</td>\n",
       "    </tr>\n",
       "    <tr>\n",
       "      <th>0</th>\n",
       "      <td>10A</td>\n",
       "      <td>English</td>\n",
       "      <td>70.8</td>\n",
       "      <td>2.0</td>\n",
       "    </tr>\n",
       "    <tr>\n",
       "      <th>7</th>\n",
       "      <td>10B</td>\n",
       "      <td>Economics</td>\n",
       "      <td>54.0</td>\n",
       "      <td>3.0</td>\n",
       "    </tr>\n",
       "    <tr>\n",
       "      <th>14</th>\n",
       "      <td>11A</td>\n",
       "      <td>Psychology</td>\n",
       "      <td>61.4</td>\n",
       "      <td>3.0</td>\n",
       "    </tr>\n",
       "    <tr>\n",
       "      <th>5</th>\n",
       "      <td>9B</td>\n",
       "      <td>English</td>\n",
       "      <td>73.4</td>\n",
       "      <td>3.0</td>\n",
       "    </tr>\n",
       "    <tr>\n",
       "      <th>9</th>\n",
       "      <td>11C</td>\n",
       "      <td>Economics</td>\n",
       "      <td>55.2</td>\n",
       "      <td>4.0</td>\n",
       "    </tr>\n",
       "    <tr>\n",
       "      <th>1</th>\n",
       "      <td>10B</td>\n",
       "      <td>English</td>\n",
       "      <td>77.2</td>\n",
       "      <td>4.0</td>\n",
       "    </tr>\n",
       "    <tr>\n",
       "      <th>12</th>\n",
       "      <td>10A</td>\n",
       "      <td>Psychology</td>\n",
       "      <td>62.1</td>\n",
       "      <td>4.0</td>\n",
       "    </tr>\n",
       "    <tr>\n",
       "      <th>2</th>\n",
       "      <td>11A</td>\n",
       "      <td>English</td>\n",
       "      <td>78.0</td>\n",
       "      <td>5.0</td>\n",
       "    </tr>\n",
       "    <tr>\n",
       "      <th>15</th>\n",
       "      <td>11C</td>\n",
       "      <td>Psychology</td>\n",
       "      <td>62.9</td>\n",
       "      <td>5.0</td>\n",
       "    </tr>\n",
       "    <tr>\n",
       "      <th>8</th>\n",
       "      <td>11A</td>\n",
       "      <td>Economics</td>\n",
       "      <td>57.6</td>\n",
       "      <td>5.0</td>\n",
       "    </tr>\n",
       "    <tr>\n",
       "      <th>6</th>\n",
       "      <td>10A</td>\n",
       "      <td>Economics</td>\n",
       "      <td>60.4</td>\n",
       "      <td>6.0</td>\n",
       "    </tr>\n",
       "    <tr>\n",
       "      <th>3</th>\n",
       "      <td>11C</td>\n",
       "      <td>English</td>\n",
       "      <td>79.1</td>\n",
       "      <td>6.0</td>\n",
       "    </tr>\n",
       "    <tr>\n",
       "      <th>13</th>\n",
       "      <td>10B</td>\n",
       "      <td>Psychology</td>\n",
       "      <td>70.6</td>\n",
       "      <td>6.0</td>\n",
       "    </tr>\n",
       "  </tbody>\n",
       "</table>\n",
       "</div>"
      ],
      "text/plain": [
       "     Class      Subject  Grade  rank\n",
       "17   9B      Psychology   59.6   1.0\n",
       "11   9B       Economics   52.4   1.0\n",
       "4        9A     English   68.2   1.0\n",
       "10       9A   Economics   53.5   2.0\n",
       "16       9A  Psychology   60.9   2.0\n",
       "0    10A        English   70.8   2.0\n",
       "7    10B      Economics   54.0   3.0\n",
       "14   11A     Psychology   61.4   3.0\n",
       "5    9B         English   73.4   3.0\n",
       "9    11C      Economics   55.2   4.0\n",
       "1    10B        English   77.2   4.0\n",
       "12   10A     Psychology   62.1   4.0\n",
       "2    11A        English   78.0   5.0\n",
       "15   11C     Psychology   62.9   5.0\n",
       "8    11A      Economics   57.6   5.0\n",
       "6    10A      Economics   60.4   6.0\n",
       "3    11C        English   79.1   6.0\n",
       "13   10B     Psychology   70.6   6.0"
      ]
     },
     "execution_count": 32,
     "metadata": {},
     "output_type": "execute_result"
    }
   ],
   "source": [
    "final"
   ]
  },
  {
   "cell_type": "code",
   "execution_count": 33,
   "id": "fc575693",
   "metadata": {},
   "outputs": [],
   "source": [
    "cols = ['Subject','Grade',' Class ']\n",
    "\n",
    "final = final.reindex(columns = cols)"
   ]
  },
  {
   "cell_type": "code",
   "execution_count": 34,
   "id": "50b29d4a",
   "metadata": {},
   "outputs": [
    {
     "data": {
      "text/html": [
       "<div>\n",
       "<style scoped>\n",
       "    .dataframe tbody tr th:only-of-type {\n",
       "        vertical-align: middle;\n",
       "    }\n",
       "\n",
       "    .dataframe tbody tr th {\n",
       "        vertical-align: top;\n",
       "    }\n",
       "\n",
       "    .dataframe thead th {\n",
       "        text-align: right;\n",
       "    }\n",
       "</style>\n",
       "<table border=\"1\" class=\"dataframe\">\n",
       "  <thead>\n",
       "    <tr style=\"text-align: right;\">\n",
       "      <th></th>\n",
       "      <th>Subject</th>\n",
       "      <th>Grade</th>\n",
       "      <th>Class</th>\n",
       "    </tr>\n",
       "  </thead>\n",
       "  <tbody>\n",
       "    <tr>\n",
       "      <th>17</th>\n",
       "      <td>Psychology</td>\n",
       "      <td>59.6</td>\n",
       "      <td>9B</td>\n",
       "    </tr>\n",
       "    <tr>\n",
       "      <th>11</th>\n",
       "      <td>Economics</td>\n",
       "      <td>52.4</td>\n",
       "      <td>9B</td>\n",
       "    </tr>\n",
       "    <tr>\n",
       "      <th>4</th>\n",
       "      <td>English</td>\n",
       "      <td>68.2</td>\n",
       "      <td>9A</td>\n",
       "    </tr>\n",
       "  </tbody>\n",
       "</table>\n",
       "</div>"
      ],
      "text/plain": [
       "       Subject  Grade   Class \n",
       "17  Psychology   59.6   9B    \n",
       "11   Economics   52.4   9B    \n",
       "4      English   68.2       9A"
      ]
     },
     "execution_count": 34,
     "metadata": {},
     "output_type": "execute_result"
    }
   ],
   "source": [
    "final.head(3)"
   ]
  },
  {
   "cell_type": "code",
   "execution_count": null,
   "id": "dfe38cea",
   "metadata": {},
   "outputs": [],
   "source": []
  }
 ],
 "metadata": {
  "kernelspec": {
   "display_name": "Python 3 (ipykernel)",
   "language": "python",
   "name": "python3"
  },
  "language_info": {
   "codemirror_mode": {
    "name": "ipython",
    "version": 3
   },
   "file_extension": ".py",
   "mimetype": "text/x-python",
   "name": "python",
   "nbconvert_exporter": "python",
   "pygments_lexer": "ipython3",
   "version": "3.9.13"
  }
 },
 "nbformat": 4,
 "nbformat_minor": 5
}
